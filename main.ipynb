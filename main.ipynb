{
 "cells": [
  {
   "cell_type": "markdown",
   "metadata": {
    "pycharm": {
     "name": "#%% md\n"
    }
   },
   "source": [
    "Init lib and create Repository to fetch the dataset"
   ]
  },
  {
   "cell_type": "code",
   "execution_count": 1,
   "metadata": {
    "pycharm": {
     "name": "#%%\n"
    }
   },
   "outputs": [
    {
     "data": {
      "text/html": "\n    <div class=\"bk-root\">\n        <a href=\"https://bokeh.org\" target=\"_blank\" class=\"bk-logo bk-logo-small bk-logo-notebook\"></a>\n        <span id=\"1002\">Loading BokehJS ...</span>\n    </div>"
     },
     "metadata": {},
     "output_type": "display_data"
    },
    {
     "data": {
      "application/javascript": "\n(function(root) {\n  function now() {\n    return new Date();\n  }\n\n  var force = true;\n\n  if (typeof root._bokeh_onload_callbacks === \"undefined\" || force === true) {\n    root._bokeh_onload_callbacks = [];\n    root._bokeh_is_loading = undefined;\n  }\n\n  var JS_MIME_TYPE = 'application/javascript';\n  var HTML_MIME_TYPE = 'text/html';\n  var EXEC_MIME_TYPE = 'application/vnd.bokehjs_exec.v0+json';\n  var CLASS_NAME = 'output_bokeh rendered_html';\n\n  /**\n   * Render data to the DOM node\n   */\n  function render(props, node) {\n    var script = document.createElement(\"script\");\n    node.appendChild(script);\n  }\n\n  /**\n   * Handle when an output is cleared or removed\n   */\n  function handleClearOutput(event, handle) {\n    var cell = handle.cell;\n\n    var id = cell.output_area._bokeh_element_id;\n    var server_id = cell.output_area._bokeh_server_id;\n    // Clean up Bokeh references\n    if (id != null && id in Bokeh.index) {\n      Bokeh.index[id].model.document.clear();\n      delete Bokeh.index[id];\n    }\n\n    if (server_id !== undefined) {\n      // Clean up Bokeh references\n      var cmd = \"from bokeh.io.state import curstate; print(curstate().uuid_to_server['\" + server_id + \"'].get_sessions()[0].document.roots[0]._id)\";\n      cell.notebook.kernel.execute(cmd, {\n        iopub: {\n          output: function(msg) {\n            var id = msg.content.text.trim();\n            if (id in Bokeh.index) {\n              Bokeh.index[id].model.document.clear();\n              delete Bokeh.index[id];\n            }\n          }\n        }\n      });\n      // Destroy server and session\n      var cmd = \"import bokeh.io.notebook as ion; ion.destroy_server('\" + server_id + \"')\";\n      cell.notebook.kernel.execute(cmd);\n    }\n  }\n\n  /**\n   * Handle when a new output is added\n   */\n  function handleAddOutput(event, handle) {\n    var output_area = handle.output_area;\n    var output = handle.output;\n\n    // limit handleAddOutput to display_data with EXEC_MIME_TYPE content only\n    if ((output.output_type != \"display_data\") || (!Object.prototype.hasOwnProperty.call(output.data, EXEC_MIME_TYPE))) {\n      return\n    }\n\n    var toinsert = output_area.element.find(\".\" + CLASS_NAME.split(' ')[0]);\n\n    if (output.metadata[EXEC_MIME_TYPE][\"id\"] !== undefined) {\n      toinsert[toinsert.length - 1].firstChild.textContent = output.data[JS_MIME_TYPE];\n      // store reference to embed id on output_area\n      output_area._bokeh_element_id = output.metadata[EXEC_MIME_TYPE][\"id\"];\n    }\n    if (output.metadata[EXEC_MIME_TYPE][\"server_id\"] !== undefined) {\n      var bk_div = document.createElement(\"div\");\n      bk_div.innerHTML = output.data[HTML_MIME_TYPE];\n      var script_attrs = bk_div.children[0].attributes;\n      for (var i = 0; i < script_attrs.length; i++) {\n        toinsert[toinsert.length - 1].firstChild.setAttribute(script_attrs[i].name, script_attrs[i].value);\n        toinsert[toinsert.length - 1].firstChild.textContent = bk_div.children[0].textContent\n      }\n      // store reference to server id on output_area\n      output_area._bokeh_server_id = output.metadata[EXEC_MIME_TYPE][\"server_id\"];\n    }\n  }\n\n  function register_renderer(events, OutputArea) {\n\n    function append_mime(data, metadata, element) {\n      // create a DOM node to render to\n      var toinsert = this.create_output_subarea(\n        metadata,\n        CLASS_NAME,\n        EXEC_MIME_TYPE\n      );\n      this.keyboard_manager.register_events(toinsert);\n      // Render to node\n      var props = {data: data, metadata: metadata[EXEC_MIME_TYPE]};\n      render(props, toinsert[toinsert.length - 1]);\n      element.append(toinsert);\n      return toinsert\n    }\n\n    /* Handle when an output is cleared or removed */\n    events.on('clear_output.CodeCell', handleClearOutput);\n    events.on('delete.Cell', handleClearOutput);\n\n    /* Handle when a new output is added */\n    events.on('output_added.OutputArea', handleAddOutput);\n\n    /**\n     * Register the mime type and append_mime function with output_area\n     */\n    OutputArea.prototype.register_mime_type(EXEC_MIME_TYPE, append_mime, {\n      /* Is output safe? */\n      safe: true,\n      /* Index of renderer in `output_area.display_order` */\n      index: 0\n    });\n  }\n\n  // register the mime type if in Jupyter Notebook environment and previously unregistered\n  if (root.Jupyter !== undefined) {\n    var events = require('base/js/events');\n    var OutputArea = require('notebook/js/outputarea').OutputArea;\n\n    if (OutputArea.prototype.mime_types().indexOf(EXEC_MIME_TYPE) == -1) {\n      register_renderer(events, OutputArea);\n    }\n  }\n\n  \n  if (typeof (root._bokeh_timeout) === \"undefined\" || force === true) {\n    root._bokeh_timeout = Date.now() + 5000;\n    root._bokeh_failed_load = false;\n  }\n\n  var NB_LOAD_WARNING = {'data': {'text/html':\n     \"<div style='background-color: #fdd'>\\n\"+\n     \"<p>\\n\"+\n     \"BokehJS does not appear to have successfully loaded. If loading BokehJS from CDN, this \\n\"+\n     \"may be due to a slow or bad network connection. Possible fixes:\\n\"+\n     \"</p>\\n\"+\n     \"<ul>\\n\"+\n     \"<li>re-rerun `output_notebook()` to attempt to load from CDN again, or</li>\\n\"+\n     \"<li>use INLINE resources instead, as so:</li>\\n\"+\n     \"</ul>\\n\"+\n     \"<code>\\n\"+\n     \"from bokeh.resources import INLINE\\n\"+\n     \"output_notebook(resources=INLINE)\\n\"+\n     \"</code>\\n\"+\n     \"</div>\"}};\n\n  function display_loaded() {\n    var el = document.getElementById(\"1002\");\n    if (el != null) {\n      el.textContent = \"BokehJS is loading...\";\n    }\n    if (root.Bokeh !== undefined) {\n      if (el != null) {\n        el.textContent = \"BokehJS \" + root.Bokeh.version + \" successfully loaded.\";\n      }\n    } else if (Date.now() < root._bokeh_timeout) {\n      setTimeout(display_loaded, 100)\n    }\n  }\n\n\n  function run_callbacks() {\n    try {\n      root._bokeh_onload_callbacks.forEach(function(callback) {\n        if (callback != null)\n          callback();\n      });\n    } finally {\n      delete root._bokeh_onload_callbacks\n    }\n    console.debug(\"Bokeh: all callbacks have finished\");\n  }\n\n  function load_libs(css_urls, js_urls, callback) {\n    if (css_urls == null) css_urls = [];\n    if (js_urls == null) js_urls = [];\n\n    root._bokeh_onload_callbacks.push(callback);\n    if (root._bokeh_is_loading > 0) {\n      console.debug(\"Bokeh: BokehJS is being loaded, scheduling callback at\", now());\n      return null;\n    }\n    if (js_urls == null || js_urls.length === 0) {\n      run_callbacks();\n      return null;\n    }\n    console.debug(\"Bokeh: BokehJS not loaded, scheduling load and callback at\", now());\n    root._bokeh_is_loading = css_urls.length + js_urls.length;\n\n    function on_load() {\n      root._bokeh_is_loading--;\n      if (root._bokeh_is_loading === 0) {\n        console.debug(\"Bokeh: all BokehJS libraries/stylesheets loaded\");\n        run_callbacks()\n      }\n    }\n\n    function on_error(url) {\n      console.error(\"failed to load \" + url);\n    }\n\n    for (let i = 0; i < css_urls.length; i++) {\n      const url = css_urls[i];\n      const element = document.createElement(\"link\");\n      element.onload = on_load;\n      element.onerror = on_error.bind(null, url);\n      element.rel = \"stylesheet\";\n      element.type = \"text/css\";\n      element.href = url;\n      console.debug(\"Bokeh: injecting link tag for BokehJS stylesheet: \", url);\n      document.body.appendChild(element);\n    }\n\n    const hashes = {\"https://cdn.bokeh.org/bokeh/release/bokeh-2.3.1.min.js\": \"YF85VygJKMVnHE+lLv2AM93Vbstr0yo2TbIu5v8se5Rq3UQAUmcuh4aaJwNlpKwa\", \"https://cdn.bokeh.org/bokeh/release/bokeh-widgets-2.3.1.min.js\": \"KKuas3gevv3PvrlkyCMzffFeaMq5we/a2QsP5AUoS3mJ0jmaCL7jirFJN3GoE/lM\", \"https://cdn.bokeh.org/bokeh/release/bokeh-tables-2.3.1.min.js\": \"MK/uFc3YT18pkvvXRl66tTHjP0/dxoSH2e/eiNMFIguKlun2+WVqaPTWmUy/zvh4\"};\n\n    for (let i = 0; i < js_urls.length; i++) {\n      const url = js_urls[i];\n      const element = document.createElement('script');\n      element.onload = on_load;\n      element.onerror = on_error.bind(null, url);\n      element.async = false;\n      element.src = url;\n      if (url in hashes) {\n        element.crossOrigin = \"anonymous\";\n        element.integrity = \"sha384-\" + hashes[url];\n      }\n      console.debug(\"Bokeh: injecting script tag for BokehJS library: \", url);\n      document.head.appendChild(element);\n    }\n  };\n\n  function inject_raw_css(css) {\n    const element = document.createElement(\"style\");\n    element.appendChild(document.createTextNode(css));\n    document.body.appendChild(element);\n  }\n\n  \n  var js_urls = [\"https://cdn.bokeh.org/bokeh/release/bokeh-2.3.1.min.js\", \"https://cdn.bokeh.org/bokeh/release/bokeh-widgets-2.3.1.min.js\", \"https://cdn.bokeh.org/bokeh/release/bokeh-tables-2.3.1.min.js\"];\n  var css_urls = [];\n  \n\n  var inline_js = [\n    function(Bokeh) {\n      Bokeh.set_log_level(\"info\");\n    },\n    function(Bokeh) {\n    \n    \n    }\n  ];\n\n  function run_inline_js() {\n    \n    if (root.Bokeh !== undefined || force === true) {\n      \n    for (var i = 0; i < inline_js.length; i++) {\n      inline_js[i].call(root, root.Bokeh);\n    }\n    if (force === true) {\n        display_loaded();\n      }} else if (Date.now() < root._bokeh_timeout) {\n      setTimeout(run_inline_js, 100);\n    } else if (!root._bokeh_failed_load) {\n      console.log(\"Bokeh: BokehJS failed to load within specified timeout.\");\n      root._bokeh_failed_load = true;\n    } else if (force !== true) {\n      var cell = $(document.getElementById(\"1002\")).parents('.cell').data().cell;\n      cell.output_area.append_execute_result(NB_LOAD_WARNING)\n    }\n\n  }\n\n  if (root._bokeh_is_loading === 0) {\n    console.debug(\"Bokeh: BokehJS loaded, going straight to plotting\");\n    run_inline_js();\n  } else {\n    load_libs(css_urls, js_urls, function() {\n      console.debug(\"Bokeh: BokehJS plotting callback run at\", now());\n      run_inline_js();\n    });\n  }\n}(window));",
      "application/vnd.bokehjs_load.v0+json": "\n(function(root) {\n  function now() {\n    return new Date();\n  }\n\n  var force = true;\n\n  if (typeof root._bokeh_onload_callbacks === \"undefined\" || force === true) {\n    root._bokeh_onload_callbacks = [];\n    root._bokeh_is_loading = undefined;\n  }\n\n  \n\n  \n  if (typeof (root._bokeh_timeout) === \"undefined\" || force === true) {\n    root._bokeh_timeout = Date.now() + 5000;\n    root._bokeh_failed_load = false;\n  }\n\n  var NB_LOAD_WARNING = {'data': {'text/html':\n     \"<div style='background-color: #fdd'>\\n\"+\n     \"<p>\\n\"+\n     \"BokehJS does not appear to have successfully loaded. If loading BokehJS from CDN, this \\n\"+\n     \"may be due to a slow or bad network connection. Possible fixes:\\n\"+\n     \"</p>\\n\"+\n     \"<ul>\\n\"+\n     \"<li>re-rerun `output_notebook()` to attempt to load from CDN again, or</li>\\n\"+\n     \"<li>use INLINE resources instead, as so:</li>\\n\"+\n     \"</ul>\\n\"+\n     \"<code>\\n\"+\n     \"from bokeh.resources import INLINE\\n\"+\n     \"output_notebook(resources=INLINE)\\n\"+\n     \"</code>\\n\"+\n     \"</div>\"}};\n\n  function display_loaded() {\n    var el = document.getElementById(\"1002\");\n    if (el != null) {\n      el.textContent = \"BokehJS is loading...\";\n    }\n    if (root.Bokeh !== undefined) {\n      if (el != null) {\n        el.textContent = \"BokehJS \" + root.Bokeh.version + \" successfully loaded.\";\n      }\n    } else if (Date.now() < root._bokeh_timeout) {\n      setTimeout(display_loaded, 100)\n    }\n  }\n\n\n  function run_callbacks() {\n    try {\n      root._bokeh_onload_callbacks.forEach(function(callback) {\n        if (callback != null)\n          callback();\n      });\n    } finally {\n      delete root._bokeh_onload_callbacks\n    }\n    console.debug(\"Bokeh: all callbacks have finished\");\n  }\n\n  function load_libs(css_urls, js_urls, callback) {\n    if (css_urls == null) css_urls = [];\n    if (js_urls == null) js_urls = [];\n\n    root._bokeh_onload_callbacks.push(callback);\n    if (root._bokeh_is_loading > 0) {\n      console.debug(\"Bokeh: BokehJS is being loaded, scheduling callback at\", now());\n      return null;\n    }\n    if (js_urls == null || js_urls.length === 0) {\n      run_callbacks();\n      return null;\n    }\n    console.debug(\"Bokeh: BokehJS not loaded, scheduling load and callback at\", now());\n    root._bokeh_is_loading = css_urls.length + js_urls.length;\n\n    function on_load() {\n      root._bokeh_is_loading--;\n      if (root._bokeh_is_loading === 0) {\n        console.debug(\"Bokeh: all BokehJS libraries/stylesheets loaded\");\n        run_callbacks()\n      }\n    }\n\n    function on_error(url) {\n      console.error(\"failed to load \" + url);\n    }\n\n    for (let i = 0; i < css_urls.length; i++) {\n      const url = css_urls[i];\n      const element = document.createElement(\"link\");\n      element.onload = on_load;\n      element.onerror = on_error.bind(null, url);\n      element.rel = \"stylesheet\";\n      element.type = \"text/css\";\n      element.href = url;\n      console.debug(\"Bokeh: injecting link tag for BokehJS stylesheet: \", url);\n      document.body.appendChild(element);\n    }\n\n    const hashes = {\"https://cdn.bokeh.org/bokeh/release/bokeh-2.3.1.min.js\": \"YF85VygJKMVnHE+lLv2AM93Vbstr0yo2TbIu5v8se5Rq3UQAUmcuh4aaJwNlpKwa\", \"https://cdn.bokeh.org/bokeh/release/bokeh-widgets-2.3.1.min.js\": \"KKuas3gevv3PvrlkyCMzffFeaMq5we/a2QsP5AUoS3mJ0jmaCL7jirFJN3GoE/lM\", \"https://cdn.bokeh.org/bokeh/release/bokeh-tables-2.3.1.min.js\": \"MK/uFc3YT18pkvvXRl66tTHjP0/dxoSH2e/eiNMFIguKlun2+WVqaPTWmUy/zvh4\"};\n\n    for (let i = 0; i < js_urls.length; i++) {\n      const url = js_urls[i];\n      const element = document.createElement('script');\n      element.onload = on_load;\n      element.onerror = on_error.bind(null, url);\n      element.async = false;\n      element.src = url;\n      if (url in hashes) {\n        element.crossOrigin = \"anonymous\";\n        element.integrity = \"sha384-\" + hashes[url];\n      }\n      console.debug(\"Bokeh: injecting script tag for BokehJS library: \", url);\n      document.head.appendChild(element);\n    }\n  };\n\n  function inject_raw_css(css) {\n    const element = document.createElement(\"style\");\n    element.appendChild(document.createTextNode(css));\n    document.body.appendChild(element);\n  }\n\n  \n  var js_urls = [\"https://cdn.bokeh.org/bokeh/release/bokeh-2.3.1.min.js\", \"https://cdn.bokeh.org/bokeh/release/bokeh-widgets-2.3.1.min.js\", \"https://cdn.bokeh.org/bokeh/release/bokeh-tables-2.3.1.min.js\"];\n  var css_urls = [];\n  \n\n  var inline_js = [\n    function(Bokeh) {\n      Bokeh.set_log_level(\"info\");\n    },\n    function(Bokeh) {\n    \n    \n    }\n  ];\n\n  function run_inline_js() {\n    \n    if (root.Bokeh !== undefined || force === true) {\n      \n    for (var i = 0; i < inline_js.length; i++) {\n      inline_js[i].call(root, root.Bokeh);\n    }\n    if (force === true) {\n        display_loaded();\n      }} else if (Date.now() < root._bokeh_timeout) {\n      setTimeout(run_inline_js, 100);\n    } else if (!root._bokeh_failed_load) {\n      console.log(\"Bokeh: BokehJS failed to load within specified timeout.\");\n      root._bokeh_failed_load = true;\n    } else if (force !== true) {\n      var cell = $(document.getElementById(\"1002\")).parents('.cell').data().cell;\n      cell.output_area.append_execute_result(NB_LOAD_WARNING)\n    }\n\n  }\n\n  if (root._bokeh_is_loading === 0) {\n    console.debug(\"Bokeh: BokehJS loaded, going straight to plotting\");\n    run_inline_js();\n  } else {\n    load_libs(css_urls, js_urls, function() {\n      console.debug(\"Bokeh: BokehJS plotting callback run at\", now());\n      run_inline_js();\n    });\n  }\n}(window));"
     },
     "metadata": {},
     "output_type": "display_data"
    }
   ],
   "source": [
    "import pandas as pd\n",
    "from pandas_bokeh import output_notebook\n",
    "pd.set_option('plotting.backend', 'pandas_bokeh')\n",
    "output_notebook()\n",
    "\n",
    "from repository.dataset import LocalDatasetRepository\n",
    "datasetPath = './dataset.json'\n",
    "datasetRepository = LocalDatasetRepository(datasetPath)\n",
    "\n",
    "#from repository.dataset import RemoteDatasetRepository\n",
    "#datasetURI = 'https://amazon-braket-anoir.s3.amazonaws.com/dataset.json'\n",
    "#datasetRepository = RemoteDatasetRepository(datasetURI)"
   ]
  },
  {
   "cell_type": "markdown",
   "metadata": {
    "pycharm": {
     "name": "#%% md\n"
    }
   },
   "source": [
    "Create Read service and get dataset data"
   ]
  },
  {
   "cell_type": "code",
   "execution_count": 2,
   "metadata": {
    "pycharm": {
     "name": "#%%\n"
    }
   },
   "outputs": [],
   "source": [
    "from service.read_dataset import ReadDataset\n",
    "\n",
    "readDatasetService = ReadDataset(datasetRepository)\n",
    "datasetInMemory = readDatasetService.getAllData()"
   ]
  },
  {
   "cell_type": "markdown",
   "source": [
    "Create Export UnitOfWork"
   ],
   "metadata": {
    "collapsed": false
   }
  },
  {
   "cell_type": "code",
   "execution_count": 3,
   "outputs": [],
   "source": [
    "from repository.export_result import LocalExportResultRepository, LocalSaveFactory, ExportResultUnitOfWork\n",
    "from model.export_result import ResultUnit, ResultType\n",
    "from service.export_file import ExportResultService\n",
    "import os\n",
    "\n",
    "file_dir = os.path.join(os.getcwd(), 'export')\n",
    "if not os.path.isdir(file_dir):\n",
    "    os.mkdir(file_dir)\n",
    "\n",
    "exportLocalSaveMethods = LocalSaveFactory()\n",
    "exportRepository = LocalExportResultRepository(file_dir, exportLocalSaveMethods)\n",
    "exportService = ExportResultService(ExportResultUnitOfWork(exportRepository))"
   ],
   "metadata": {
    "collapsed": false,
    "pycharm": {
     "name": "#%%\n"
    }
   }
  },
  {
   "cell_type": "markdown",
   "metadata": {},
   "source": [
    "Init Data extractor service"
   ]
  },
  {
   "cell_type": "code",
   "execution_count": 4,
   "metadata": {
    "pycharm": {
     "name": "#%%\n"
    }
   },
   "outputs": [],
   "source": [
    "from service.extract_dataset import ExtractDataFromDataset\n",
    "extractDataService = ExtractDataFromDataset(datasetInMemory)"
   ]
  },
  {
   "cell_type": "markdown",
   "metadata": {
    "pycharm": {
     "name": "#%% md\n"
    }
   },
   "source": [
    "Display crime distribution plot"
   ]
  },
  {
   "cell_type": "code",
   "execution_count": 5,
   "metadata": {
    "pycharm": {
     "name": "#%%\n"
    }
   },
   "outputs": [
    {
     "data": {
      "text/html": "\n\n\n\n\n\n  <div class=\"bk-root\" id=\"b5605110-0a55-423c-9e41-8f0de6df8c73\" data-root-id=\"1099\"></div>\n"
     },
     "metadata": {},
     "output_type": "display_data"
    },
    {
     "data": {
      "application/javascript": "(function(root) {\n  function embed_document(root) {\n    \n  var docs_json = {\"ec0057e3-1f84-4a10-899a-0ee585be7013\":{\"defs\":[],\"roots\":{\"references\":[{\"attributes\":{\"children\":[{\"id\":\"1003\"},{\"id\":\"1036\"}]},\"id\":\"1099\",\"type\":\"Column\"},{\"attributes\":{\"above\":[{\"id\":\"1014\"}],\"center\":[{\"id\":\"1017\"},{\"id\":\"1021\"},{\"id\":\"1085\"}],\"height\":450,\"left\":[{\"id\":\"1018\"}],\"output_backend\":\"webgl\",\"renderers\":[{\"id\":\"1061\"}],\"sizing_mode\":\"fixed\",\"title\":{\"id\":\"1004\"},\"toolbar\":{\"id\":\"1029\"},\"toolbar_location\":null,\"width\":800,\"x_range\":{\"id\":\"1051\"},\"x_scale\":{\"id\":\"1010\"},\"y_range\":{\"id\":\"1008\"},\"y_scale\":{\"id\":\"1012\"}},\"id\":\"1003\",\"subtype\":\"Figure\",\"type\":\"Plot\"},{\"attributes\":{\"overlay\":{\"id\":\"1053\"},\"x_range\":{\"id\":\"1051\"},\"y_range\":null},\"id\":\"1052\",\"type\":\"RangeTool\"},{\"attributes\":{\"text\":\"Time series of the crimes\"},\"id\":\"1004\",\"type\":\"Title\"},{\"attributes\":{\"below\":[{\"id\":\"1046\"}],\"center\":[{\"id\":\"1049\"}],\"height\":130,\"renderers\":[{\"id\":\"1093\"}],\"title\":{\"id\":\"1037\"},\"toolbar\":{\"id\":\"1050\"},\"toolbar_location\":null,\"width\":800,\"x_range\":{\"id\":\"1039\"},\"x_scale\":{\"id\":\"1042\"},\"y_range\":{\"id\":\"1008\"},\"y_scale\":{\"id\":\"1044\"}},\"id\":\"1036\",\"subtype\":\"Figure\",\"type\":\"Plot\"},{\"attributes\":{},\"id\":\"1010\",\"type\":\"LinearScale\"},{\"attributes\":{},\"id\":\"1008\",\"type\":\"DataRange1d\"},{\"attributes\":{\"axis_label\":\"Crimes\",\"formatter\":{\"id\":\"1068\"},\"major_label_policy\":{\"id\":\"1067\"},\"ticker\":{\"id\":\"1019\"}},\"id\":\"1018\",\"type\":\"LinearAxis\"},{\"attributes\":{\"axis_label\":\"Date\",\"formatter\":{\"id\":\"1095\"},\"major_label_policy\":{\"id\":\"1064\"},\"ticker\":{\"id\":\"1015\"}},\"id\":\"1014\",\"type\":\"DatetimeAxis\"},{\"attributes\":{\"num_minor_ticks\":5,\"tickers\":[{\"id\":\"1070\"},{\"id\":\"1071\"},{\"id\":\"1072\"},{\"id\":\"1073\"},{\"id\":\"1074\"},{\"id\":\"1075\"},{\"id\":\"1076\"},{\"id\":\"1077\"},{\"id\":\"1078\"},{\"id\":\"1079\"},{\"id\":\"1080\"},{\"id\":\"1081\"}]},\"id\":\"1015\",\"type\":\"DatetimeTicker\"},{\"attributes\":{},\"id\":\"1012\",\"type\":\"LinearScale\"},{\"attributes\":{\"axis\":{\"id\":\"1014\"},\"ticker\":null},\"id\":\"1017\",\"type\":\"Grid\"},{\"attributes\":{},\"id\":\"1023\",\"type\":\"WheelZoomTool\"},{\"attributes\":{\"axis\":{\"id\":\"1018\"},\"dimension\":1,\"ticker\":null},\"id\":\"1021\",\"type\":\"Grid\"},{\"attributes\":{},\"id\":\"1019\",\"type\":\"BasicTicker\"},{\"attributes\":{},\"id\":\"1064\",\"type\":\"AllLabels\"},{\"attributes\":{},\"id\":\"1027\",\"type\":\"HelpTool\"},{\"attributes\":{},\"id\":\"1022\",\"type\":\"PanTool\"},{\"attributes\":{\"overlay\":{\"id\":\"1028\"}},\"id\":\"1024\",\"type\":\"BoxZoomTool\"},{\"attributes\":{},\"id\":\"1025\",\"type\":\"SaveTool\"},{\"attributes\":{},\"id\":\"1026\",\"type\":\"ResetTool\"},{\"attributes\":{\"source\":{\"id\":\"1057\"}},\"id\":\"1062\",\"type\":\"CDSView\"},{\"attributes\":{},\"id\":\"1107\",\"type\":\"AllLabels\"},{\"attributes\":{\"line_alpha\":0.1,\"line_color\":\"mediumturquoise\",\"line_width\":2,\"x\":{\"field\":\"__x__values\"},\"y\":{\"field\":\"Crimes\"}},\"id\":\"1060\",\"type\":\"Line\"},{\"attributes\":{},\"id\":\"1108\",\"type\":\"DatetimeTickFormatter\"},{\"attributes\":{\"label\":{\"value\":\" Crimes\"},\"renderers\":[{\"id\":\"1061\"}]},\"id\":\"1086\",\"type\":\"LegendItem\"},{\"attributes\":{\"click_policy\":\"hide\",\"items\":[{\"id\":\"1086\"}],\"visible\":false},\"id\":\"1085\",\"type\":\"Legend\"},{\"attributes\":{\"line_color\":\"mediumturquoise\",\"line_width\":2,\"x\":{\"field\":\"__x__values\"},\"y\":{\"field\":\"Crimes\"}},\"id\":\"1059\",\"type\":\"Line\"},{\"attributes\":{\"base\":60,\"mantissas\":[1,2,5,10,15,20,30],\"max_interval\":1800000.0,\"min_interval\":1000.0,\"num_minor_ticks\":0},\"id\":\"1071\",\"type\":\"AdaptiveTicker\"},{\"attributes\":{},\"id\":\"1125\",\"type\":\"Selection\"},{\"attributes\":{},\"id\":\"1126\",\"type\":\"UnionRenderers\"},{\"attributes\":{\"bottom_units\":\"screen\",\"fill_alpha\":0.5,\"fill_color\":\"lightgrey\",\"left_units\":\"screen\",\"level\":\"overlay\",\"line_alpha\":1.0,\"line_color\":\"black\",\"line_dash\":[4,4],\"line_width\":2,\"right_units\":\"screen\",\"syncable\":false,\"top_units\":\"screen\"},\"id\":\"1028\",\"type\":\"BoxAnnotation\"},{\"attributes\":{},\"id\":\"1067\",\"type\":\"AllLabels\"},{\"attributes\":{\"callback\":null,\"formatters\":{\"@__x__values_original\":\"datetime\"},\"mode\":\"vline\",\"renderers\":[{\"id\":\"1061\"}],\"tooltips\":[[\"Date\",\"@__x__values_original{%F}\"],[\"Crimes\",\"@{Crimes}\"]]},\"id\":\"1087\",\"type\":\"HoverTool\"},{\"attributes\":{},\"id\":\"1068\",\"type\":\"BasicTickFormatter\"},{\"attributes\":{\"days\":[1,2,3,4,5,6,7,8,9,10,11,12,13,14,15,16,17,18,19,20,21,22,23,24,25,26,27,28,29,30,31]},\"id\":\"1073\",\"type\":\"DaysTicker\"},{\"attributes\":{\"data_source\":{\"id\":\"1089\"},\"glyph\":{\"id\":\"1091\"},\"hover_glyph\":null,\"muted_glyph\":null,\"nonselection_glyph\":{\"id\":\"1092\"},\"view\":{\"id\":\"1094\"}},\"id\":\"1093\",\"type\":\"GlyphRenderer\"},{\"attributes\":{\"data\":{\"Crimes\":[79,69,71,70,72,60,54,57,70,75,82,49,73,76,70,81,68,73,58,64,79,81,64,69,64,64,80,82,70,61,65,62,61,81,55,64,68,66,42,68,72,56,64,83,63,81,68,64,63,70,71,59,57,57,55,56,51,62,61,59,45,58,69,57,51,59,58,45,66,60,45,50,47,54,44,66,44,51,42,50,59,51,70,69,55,52,59,54,65,56,59,71,63,60,51,72,65,70,61,62,67,76,72,68,76,62,69,73,72,90,69,75,67,65,74,80,48,78,89,66,80,66,59,81,82,85,73,76,69,63,65,63,77,61,73,73,74,77,79,88,63,73,76,76,84,58,77,69,78,75,70,80,67,79,61,71,72,73,80,70,80,77,58,83,77,77,92,73,80,74,71,86,81,59,75,78,74,84,75,57,71,68,70,86,70,75,75,63,82,58,91,78,73,81,89,85,73,98,80,88,82,66,85,58,77,92,97,84,85,88,66,81,65,71,58,75,83,65,74,61,52,66,76,80,71,83,75,71,88,87,105,80,61,83,70,67,73,93,76,74,75,64,65,82,92,86,89,87,75,76,75,78,80,55,97,88,71,87,79,78,80,82,95,92,74,97,71,93,67,67,73,81,91,77,88,60,67,69,80,106,82,78,81,89,81,89,84,72,92,67,78,82,71,96,92,72,82,83,62,74,102,78,73,99,87,70,84,80,76,94,94,81,76,83,92,75,64,75,82,75,110,87,82,77,59,76,41,85,83,83,80,78,87,86,78,83,69,72,62,66,98,83,55,85,79,92,73,88,74,88,75,67,74,84,74,95,80,69,36,61,78,61,46,60,47],\"__x__values\":{\"__ndarray__\":\"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\",\"dtype\":\"float64\",\"order\":\"little\",\"shape\":[365]},\"__x__values_original\":{\"__ndarray__\":\"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\",\"dtype\":\"float64\",\"order\":\"little\",\"shape\":[365]}},\"selected\":{\"id\":\"1125\"},\"selection_policy\":{\"id\":\"1126\"}},\"id\":\"1089\",\"type\":\"ColumnDataSource\"},{\"attributes\":{\"mantissas\":[1,2,5],\"max_interval\":500.0,\"num_minor_ticks\":0},\"id\":\"1070\",\"type\":\"AdaptiveTicker\"},{\"attributes\":{\"base\":24,\"mantissas\":[1,2,4,6,8,12],\"max_interval\":43200000.0,\"min_interval\":3600000.0,\"num_minor_ticks\":0},\"id\":\"1072\",\"type\":\"AdaptiveTicker\"},{\"attributes\":{\"months\":[0,1,2,3,4,5,6,7,8,9,10,11]},\"id\":\"1077\",\"type\":\"MonthsTicker\"},{\"attributes\":{\"days\":[1,4,7,10,13,16,19,22,25,28]},\"id\":\"1074\",\"type\":\"DaysTicker\"},{\"attributes\":{\"months\":[0,2,4,6,8,10]},\"id\":\"1078\",\"type\":\"MonthsTicker\"},{\"attributes\":{},\"id\":\"1042\",\"type\":\"LinearScale\"},{\"attributes\":{\"source\":{\"id\":\"1089\"}},\"id\":\"1094\",\"type\":\"CDSView\"},{\"attributes\":{\"days\":[1,15]},\"id\":\"1076\",\"type\":\"DaysTicker\"},{\"attributes\":{\"line_color\":\"mediumturquoise\",\"x\":{\"field\":\"__x__values\"},\"y\":{\"field\":\"Crimes\"}},\"id\":\"1091\",\"type\":\"Line\"},{\"attributes\":{\"months\":[0,6]},\"id\":\"1080\",\"type\":\"MonthsTicker\"},{\"attributes\":{\"active_drag\":null,\"active_multi\":null,\"active_scroll\":null,\"tools\":[{\"id\":\"1022\"},{\"id\":\"1023\"},{\"id\":\"1024\"},{\"id\":\"1025\"},{\"id\":\"1026\"},{\"id\":\"1027\"},{\"id\":\"1087\"}]},\"id\":\"1029\",\"type\":\"Toolbar\"},{\"attributes\":{\"line_alpha\":0.1,\"line_color\":\"mediumturquoise\",\"x\":{\"field\":\"__x__values\"},\"y\":{\"field\":\"Crimes\"}},\"id\":\"1092\",\"type\":\"Line\"},{\"attributes\":{\"days\":[1,8,15,22]},\"id\":\"1075\",\"type\":\"DaysTicker\"},{\"attributes\":{},\"id\":\"1081\",\"type\":\"YearsTicker\"},{\"attributes\":{},\"id\":\"1083\",\"type\":\"UnionRenderers\"},{\"attributes\":{\"mantissas\":[1,2,5],\"max_interval\":500.0,\"num_minor_ticks\":0},\"id\":\"1128\",\"type\":\"AdaptiveTicker\"},{\"attributes\":{},\"id\":\"1039\",\"type\":\"DataRange1d\"},{\"attributes\":{\"months\":[0,4,8]},\"id\":\"1079\",\"type\":\"MonthsTicker\"},{\"attributes\":{\"base\":60,\"mantissas\":[1,2,5,10,15,20,30],\"max_interval\":1800000.0,\"min_interval\":1000.0,\"num_minor_ticks\":0},\"id\":\"1129\",\"type\":\"AdaptiveTicker\"},{\"attributes\":{\"end\":1514678400000.0,\"start\":1506816000000.0},\"id\":\"1051\",\"type\":\"Range1d\"},{\"attributes\":{\"days\":[1,2,3,4,5,6,7,8,9,10,11,12,13,14,15,16,17,18,19,20,21,22,23,24,25,26,27,28,29,30,31]},\"id\":\"1131\",\"type\":\"DaysTicker\"},{\"attributes\":{\"fill_alpha\":0.2,\"fill_color\":\"navy\",\"level\":\"overlay\",\"line_alpha\":1.0,\"line_color\":\"black\",\"line_dash\":[2,2],\"line_width\":0.5,\"syncable\":false},\"id\":\"1053\",\"type\":\"BoxAnnotation\"},{\"attributes\":{\"base\":24,\"mantissas\":[1,2,4,6,8,12],\"max_interval\":43200000.0,\"min_interval\":3600000.0,\"num_minor_ticks\":0},\"id\":\"1130\",\"type\":\"AdaptiveTicker\"},{\"attributes\":{\"text\":\"Drag the box to change the range above.\"},\"id\":\"1037\",\"type\":\"Title\"},{\"attributes\":{},\"id\":\"1082\",\"type\":\"Selection\"},{\"attributes\":{\"months\":[0,1,2,3,4,5,6,7,8,9,10,11]},\"id\":\"1135\",\"type\":\"MonthsTicker\"},{\"attributes\":{\"months\":[0,2,4,6,8,10]},\"id\":\"1136\",\"type\":\"MonthsTicker\"},{\"attributes\":{\"days\":[1,4,7,10,13,16,19,22,25,28]},\"id\":\"1132\",\"type\":\"DaysTicker\"},{\"attributes\":{\"formatter\":{\"id\":\"1108\"},\"major_label_policy\":{\"id\":\"1107\"},\"ticker\":{\"id\":\"1047\"}},\"id\":\"1046\",\"type\":\"DatetimeAxis\"},{\"attributes\":{\"days\":[1,15]},\"id\":\"1134\",\"type\":\"DaysTicker\"},{\"attributes\":{\"axis\":{\"id\":\"1046\"},\"ticker\":null},\"id\":\"1049\",\"type\":\"Grid\"},{\"attributes\":{\"months\":[0,6]},\"id\":\"1138\",\"type\":\"MonthsTicker\"},{\"attributes\":{},\"id\":\"1044\",\"type\":\"LinearScale\"},{\"attributes\":{\"days\":[1,8,15,22]},\"id\":\"1133\",\"type\":\"DaysTicker\"},{\"attributes\":{\"num_minor_ticks\":5,\"tickers\":[{\"id\":\"1128\"},{\"id\":\"1129\"},{\"id\":\"1130\"},{\"id\":\"1131\"},{\"id\":\"1132\"},{\"id\":\"1133\"},{\"id\":\"1134\"},{\"id\":\"1135\"},{\"id\":\"1136\"},{\"id\":\"1137\"},{\"id\":\"1138\"},{\"id\":\"1139\"}]},\"id\":\"1047\",\"type\":\"DatetimeTicker\"},{\"attributes\":{},\"id\":\"1139\",\"type\":\"YearsTicker\"},{\"attributes\":{\"days\":[\"%d %B %Y\"],\"hours\":[\"%H:%M:%S\"],\"milliseconds\":[\"%H:%M:%S.%f\"],\"minutes\":[\"%H:%M:%S\"],\"months\":[\"%d %B %Y\"],\"seconds\":[\"%H:%M:%S\"],\"years\":[\"%d %B %Y\"]},\"id\":\"1095\",\"type\":\"DatetimeTickFormatter\"},{\"attributes\":{\"months\":[0,4,8]},\"id\":\"1137\",\"type\":\"MonthsTicker\"},{\"attributes\":{\"active_multi\":{\"id\":\"1052\"},\"tools\":[{\"id\":\"1052\"}]},\"id\":\"1050\",\"type\":\"Toolbar\"},{\"attributes\":{\"data\":{\"Crimes\":[79,69,71,70,72,60,54,57,70,75,82,49,73,76,70,81,68,73,58,64,79,81,64,69,64,64,80,82,70,61,65,62,61,81,55,64,68,66,42,68,72,56,64,83,63,81,68,64,63,70,71,59,57,57,55,56,51,62,61,59,45,58,69,57,51,59,58,45,66,60,45,50,47,54,44,66,44,51,42,50,59,51,70,69,55,52,59,54,65,56,59,71,63,60,51,72,65,70,61,62,67,76,72,68,76,62,69,73,72,90,69,75,67,65,74,80,48,78,89,66,80,66,59,81,82,85,73,76,69,63,65,63,77,61,73,73,74,77,79,88,63,73,76,76,84,58,77,69,78,75,70,80,67,79,61,71,72,73,80,70,80,77,58,83,77,77,92,73,80,74,71,86,81,59,75,78,74,84,75,57,71,68,70,86,70,75,75,63,82,58,91,78,73,81,89,85,73,98,80,88,82,66,85,58,77,92,97,84,85,88,66,81,65,71,58,75,83,65,74,61,52,66,76,80,71,83,75,71,88,87,105,80,61,83,70,67,73,93,76,74,75,64,65,82,92,86,89,87,75,76,75,78,80,55,97,88,71,87,79,78,80,82,95,92,74,97,71,93,67,67,73,81,91,77,88,60,67,69,80,106,82,78,81,89,81,89,84,72,92,67,78,82,71,96,92,72,82,83,62,74,102,78,73,99,87,70,84,80,76,94,94,81,76,83,92,75,64,75,82,75,110,87,82,77,59,76,41,85,83,83,80,78,87,86,78,83,69,72,62,66,98,83,55,85,79,92,73,88,74,88,75,67,74,84,74,95,80,69,36,61,78,61,46,60,47],\"__x__values\":{\"__ndarray__\":\"AABANnWVdUIAAACcx5V1QgAAwAEalnVCAACAZ2yWdUIAAEDNvpZ1QgAAADMRl3VCAADAmGOXdUIAAID+tZd1QgAAQGQImHVCAAAAylqYdUIAAMAvrZh1QgAAgJX/mHVCAABA+1GZdUIAAABhpJl1QgAAwMb2mXVCAACALEmadUIAAECSm5p1QgAAAPjtmnVCAADAXUCbdUIAAIDDkpt1QgAAQCnlm3VCAAAAjzecdUIAAMD0iZx1QgAAgFrcnHVCAABAwC6ddUIAAAAmgZ11QgAAwIvTnXVCAACA8SWedUIAAEBXeJ51QgAAAL3KnnVCAADAIh2fdUIAAICIb591QgAAQO7Bn3VCAAAAVBSgdUIAAMC5ZqB1QgAAgB+5oHVCAABAhQuhdUIAAADrXaF1QgAAwFCwoXVCAACAtgKidUIAAEAcVaJ1QgAAAIKnonVCAADA5/midUIAAIBNTKN1QgAAQLOeo3VCAAAAGfGjdUIAAMB+Q6R1QgAAgOSVpHVCAABASuikdUIAAACwOqV1QgAAwBWNpXVCAACAe9+ldUIAAEDhMaZ1QgAAAEeEpnVCAADArNamdUIAAIASKad1QgAAQHh7p3VCAAAA3s2ndUIAAMBDIKh1QgAAgKlyqHVCAABAD8WodUIAAAB1F6l1QgAAwNppqXVCAACAQLypdUIAAECmDqp1QgAAAAxhqnVCAADAcbOqdUIAAIDXBat1QgAAQD1Yq3VCAAAAo6qrdUIAAMAI/at1QgAAgG5PrHVCAABA1KGsdUIAAAA69Kx1QgAAwJ9GrXVCAACABZmtdUIAAEBr6611QgAAANE9rnVCAADANpCudUIAAICc4q51QgAAQAI1r3VCAAAAaIevdUIAAMDN2a91QgAAgDMssHVCAABAmX6wdUIAAAD/0LB1QgAAwGQjsXVCAACAynWxdUIAAEAwyLF1QgAAAJYasnVCAADA+2yydUIAAIBhv7J1QgAAQMcRs3VCAAAALWSzdUIAAMCStrN1QgAAgPgItHVCAABAXlu0dUIAAADErbR1QgAAwCkAtXVCAACAj1K1dUIAAED1pLV1QgAAAFv3tXVCAADAwEm2dUIAAIAmnLZ1QgAAQIzutnVCAAAA8kC3dUIAAMBXk7d1QgAAgL3lt3VCAABAIzi4dUIAAACJirh1QgAAwO7cuHVCAACAVC+5dUIAAEC6gbl1QgAAACDUuXVCAADAhSa6dUIAAIDreLp1QgAAQFHLunVCAAAAtx27dUIAAMAccLt1QgAAgILCu3VCAABA6BS8dUIAAABOZ7x1QgAAwLO5vHVCAACAGQy9dUIAAEB/Xr11QgAAAOWwvXVCAADASgO+dUIAAICwVb51QgAAQBaovnVCAAAAfPq+dUIAAMDhTL91QgAAgEefv3VCAABArfG/dUIAAAATRMB1QgAAwHiWwHVCAACA3ujAdUIAAEBEO8F1QgAAAKqNwXVCAADAD+DBdUIAAIB1MsJ1QgAAQNuEwnVCAAAAQdfCdUIAAMCmKcN1QgAAgAx8w3VCAABAcs7DdUIAAADYIMR1QgAAwD1zxHVCAACAo8XEdUIAAEAJGMV1QgAAAG9qxXVCAADA1LzFdUIAAIA6D8Z1QgAAQKBhxnVCAAAABrTGdUIAAMBrBsd1QgAAgNFYx3VCAABAN6vHdUIAAACd/cd1QgAAwAJQyHVCAACAaKLIdUIAAEDO9Mh1QgAAADRHyXVCAADAmZnJdUIAAID/68l1QgAAQGU+ynVCAAAAy5DKdUIAAMAw48p1QgAAgJY1y3VCAABA/IfLdUIAAABi2st1QgAAwMcszHVCAACALX/MdUIAAECT0cx1QgAAAPkjzXVCAADAXnbNdUIAAIDEyM11QgAAQCobznVCAAAAkG3OdUIAAMD1v851QgAAgFsSz3VCAABAwWTPdUIAAAAnt891QgAAwIwJ0HVCAACA8lvQdUIAAEBYrtB1QgAAAL4A0XVCAADAI1PRdUIAAICJpdF1QgAAQO/30XVCAAAAVUrSdUIAAMC6nNJ1QgAAgCDv0nVCAABAhkHTdUIAAADsk9N1QgAAwFHm03VCAACAtzjUdUIAAEAdi9R1QgAAAIPd1HVCAADA6C/VdUIAAIBOgtV1QgAAQLTU1XVCAAAAGifWdUIAAMB/edZ1QgAAgOXL1nVCAABASx7XdUIAAACxcNd1QgAAwBbD13VCAACAfBXYdUIAAEDiZ9h1QgAAAEi62HVCAADArQzZdUIAAIATX9l1QgAAQHmx2XVCAAAA3wPadUIAAMBEVtp1QgAAgKqo2nVCAABAEPvadUIAAAB2Tdt1QgAAwNuf23VCAACAQfLbdUIAAECnRNx1QgAAAA2X3HVCAADAcuncdUIAAIDYO911QgAAQD6O3XVCAAAApODddUIAAMAJM951QgAAgG+F3nVCAABA1dfedUIAAAA7Kt91QgAAwKB833VCAACABs/fdUIAAEBsIeB1QgAAANJz4HVCAADAN8bgdUIAAICdGOF1QgAAQANr4XVCAAAAab3hdUIAAMDOD+J1QgAAgDRi4nVCAABAmrTidUIAAAAAB+N1QgAAwGVZ43VCAACAy6vjdUIAAEAx/uN1QgAAAJdQ5HVCAADA/KLkdUIAAIBi9eR1QgAAQMhH5XVCAAAALprldUIAAMCT7OV1QgAAgPk+5nVCAABAX5HmdUIAAADF4+Z1QgAAwCo253VCAACAkIjndUIAAED22ud1QgAAAFwt6HVCAADAwX/odUIAAIAn0uh1QgAAQI0k6XVCAAAA83bpdUIAAMBYyel1QgAAgL4b6nVCAABAJG7qdUIAAACKwOp1QgAAwO8S63VCAACAVWXrdUIAAEC7t+t1QgAAACEK7HVCAADAhlzsdUIAAIDsrux1QgAAQFIB7XVCAAAAuFPtdUIAAMAdpu11QgAAgIP47XVCAABA6UrudUIAAABPne51QgAAwLTv7nVCAACAGkLvdUIAAECAlO91QgAAAObm73VCAADASznwdUIAAICxi/B1QgAAQBfe8HVCAAAAfTDxdUIAAMDigvF1QgAAgEjV8XVCAABArifydUIAAAAUevJ1QgAAwHnM8nVCAACA3x7zdUIAAEBFcfN1QgAAAKvD83VCAADAEBb0dUIAAIB2aPR1QgAAQNy69HVCAAAAQg31dUIAAMCnX/V1QgAAgA2y9XVCAABAcwT2dUIAAADZVvZ1QgAAwD6p9nVCAACApPv2dUIAAEAKTvd1QgAAAHCg93VCAADA1fL3dUIAAIA7Rfh1QgAAQKGX+HVCAAAAB+r4dUIAAMBsPPl1QgAAgNKO+XVCAABAOOH5dUIAAACeM/p1QgAAwAOG+nVCAACAadj6dUIAAEDPKvt1QgAAADV9+3VCAADAms/7dUIAAIAAIvx1QgAAQGZ0/HVCAAAAzMb8dUIAAMAxGf11QgAAgJdr/XVCAABA/b39dUIAAABjEP51QgAAwMhi/nVCAACALrX+dUIAAECUB/91QgAAAPpZ/3VCAADAX6z/dUIAAIDF/v91QgAAQCtRAHZCAAAAkaMAdkIAAMD29QB2QgAAgFxIAXZCAABAwpoBdkIAAAAo7QF2QgAAwI0/AnZCAACA85ECdkIAAEBZ5AJ2QgAAAL82A3ZCAADAJIkDdkIAAICK2wN2QgAAQPAtBHZCAAAAVoAEdkIAAMC70gR2QgAAgCElBXZCAABAh3cFdkIAAADtyQV2QgAAwFIcBnZCAACAuG4GdkIAAEAewQZ2QgAAAIQTB3ZCAADA6WUHdkIAAIBPuAd2QgAAQLUKCHZCAAAAG10IdkIAAMCArwh2QgAAgOYBCXZCAABATFQJdkIAAACypgl2QgAAwBf5CXZCAACAfUsKdkIAAEDjnQp2Qg==\",\"dtype\":\"float64\",\"order\":\"little\",\"shape\":[365]},\"__x__values_original\":{\"__ndarray__\":\"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\",\"dtype\":\"float64\",\"order\":\"little\",\"shape\":[365]}},\"selected\":{\"id\":\"1082\"},\"selection_policy\":{\"id\":\"1083\"}},\"id\":\"1057\",\"type\":\"ColumnDataSource\"},{\"attributes\":{\"data_source\":{\"id\":\"1057\"},\"glyph\":{\"id\":\"1059\"},\"hover_glyph\":null,\"muted_glyph\":null,\"nonselection_glyph\":{\"id\":\"1060\"},\"view\":{\"id\":\"1062\"}},\"id\":\"1061\",\"type\":\"GlyphRenderer\"}],\"root_ids\":[\"1099\"]},\"title\":\"Bokeh Application\",\"version\":\"2.3.1\"}};\n  var render_items = [{\"docid\":\"ec0057e3-1f84-4a10-899a-0ee585be7013\",\"root_ids\":[\"1099\"],\"roots\":{\"1099\":\"b5605110-0a55-423c-9e41-8f0de6df8c73\"}}];\n  root.Bokeh.embed.embed_items_notebook(docs_json, render_items);\n\n  }\n  if (root.Bokeh !== undefined) {\n    embed_document(root);\n  } else {\n    var attempts = 0;\n    var timer = setInterval(function(root) {\n      if (root.Bokeh !== undefined) {\n        clearInterval(timer);\n        embed_document(root);\n      } else {\n        attempts++;\n        if (attempts > 100) {\n          clearInterval(timer);\n          console.log(\"Bokeh: ERROR: Unable to run BokehJS code because BokehJS library is missing\");\n        }\n      }\n    }, 10, root)\n  }\n})(window);",
      "application/vnd.bokehjs_exec.v0+json": ""
     },
     "metadata": {
      "application/vnd.bokehjs_exec.v0+json": {
       "id": "1099"
      }
     },
     "output_type": "display_data"
    }
   ],
   "source": [
    "crimeDatesDF = extractDataService.getAllCrimesCountByDateDataframe().reset_index(name='Crimes')\n",
    "crimeDatesFigure = crimeDatesDF.plot.line(\n",
    "    title=\"Time series of the crimes\",\n",
    "    figsize=(800, 450),\n",
    "    x=\"occur_date\",\n",
    "    color=\"mediumturquoise\",\n",
    "    xlabel=\"Date\",\n",
    "    ylabel=\"Crimes\",\n",
    "    toolbar_location=None,\n",
    "    zooming=False,\n",
    "    panning=False,\n",
    "    legend=None,\n",
    "    rangetool=True\n",
    ")\n",
    "exportService.addElementToExport(ResultUnit(crimeDatesFigure, \"crime_dates.html\", ResultType.BOKEH_PLOT))"
   ]
  },
  {
   "cell_type": "markdown",
   "source": [
    "Crimes frequency per type"
   ],
   "metadata": {
    "collapsed": false
   }
  },
  {
   "cell_type": "code",
   "execution_count": 6,
   "outputs": [
    {
     "data": {
      "text/html": "\n\n\n\n\n\n  <div class=\"bk-root\" id=\"40e85fe4-cc64-4b9e-940c-b57cf8cbee40\" data-root-id=\"1376\"></div>\n"
     },
     "metadata": {},
     "output_type": "display_data"
    },
    {
     "data": {
      "application/javascript": "(function(root) {\n  function embed_document(root) {\n    \n  var docs_json = {\"5a92392a-bb8f-473b-8c24-72c847d50389\":{\"defs\":[],\"roots\":{\"references\":[{\"attributes\":{\"below\":[{\"id\":\"1387\"}],\"center\":[{\"id\":\"1390\"},{\"id\":\"1394\"},{\"id\":\"1426\"}],\"height\":450,\"left\":[{\"id\":\"1391\"}],\"output_backend\":\"webgl\",\"renderers\":[{\"id\":\"1415\"}],\"sizing_mode\":\"fixed\",\"title\":{\"id\":\"1377\"},\"toolbar\":{\"id\":\"1402\"},\"toolbar_location\":null,\"width\":800,\"x_range\":{\"id\":\"1379\"},\"x_scale\":{\"id\":\"1383\"},\"y_range\":{\"id\":\"1381\"},\"y_scale\":{\"id\":\"1385\"}},\"id\":\"1376\",\"subtype\":\"Figure\",\"type\":\"Plot\"},{\"attributes\":{},\"id\":\"1396\",\"type\":\"WheelZoomTool\"},{\"attributes\":{\"axis\":{\"id\":\"1391\"},\"dimension\":1,\"ticker\":null},\"id\":\"1394\",\"type\":\"Grid\"},{\"attributes\":{\"fill_alpha\":{\"value\":0.1},\"fill_color\":{\"value\":\"darkslateblue\"},\"height\":{\"value\":0.7},\"line_alpha\":{\"value\":0.1},\"line_color\":{\"value\":\"darkslateblue\"},\"line_width\":{\"value\":2},\"right\":{\"field\":\"Frequency\"},\"y\":{\"field\":\"__x__values\",\"transform\":{\"id\":\"1411\"}}},\"id\":\"1414\",\"type\":\"HBar\"},{\"attributes\":{\"callback\":null,\"mode\":\"hline\",\"renderers\":[{\"id\":\"1415\"}],\"tooltips\":[[\"Crime Type\",\"@__x__values_original\"],[\"Frequency\",\"@{Frequency}\"]]},\"id\":\"1428\",\"type\":\"HoverTool\"},{\"attributes\":{},\"id\":\"1400\",\"type\":\"HelpTool\"},{\"attributes\":{},\"id\":\"1395\",\"type\":\"PanTool\"},{\"attributes\":{\"overlay\":{\"id\":\"1401\"}},\"id\":\"1397\",\"type\":\"BoxZoomTool\"},{\"attributes\":{},\"id\":\"1398\",\"type\":\"SaveTool\"},{\"attributes\":{\"active_drag\":null,\"active_multi\":null,\"active_scroll\":null,\"tools\":[{\"id\":\"1395\"},{\"id\":\"1396\"},{\"id\":\"1397\"},{\"id\":\"1398\"},{\"id\":\"1399\"},{\"id\":\"1400\"},{\"id\":\"1428\"}]},\"id\":\"1402\",\"type\":\"Toolbar\"},{\"attributes\":{},\"id\":\"1399\",\"type\":\"ResetTool\"},{\"attributes\":{\"data\":{\"Frequency\":[74,131,157,209,749,1126,2023,2603,3168,6511,9786],\"__x__values\":[0,1,2,3,4,5,6,7,8,9,10],\"__x__values_original\":[\"HOMICIDE\",\"ROBBERY-RESIDENCE\",\"ROBBERY-COMMERCIAL\",\"RAPE\",\"BURGLARY-NONRES\",\"ROBBERY-PEDESTRIAN\",\"AGG ASSAULT\",\"BURGLARY-RESIDENCE\",\"AUTO THEFT\",\"LARCENY-NON VEHICLE\",\"LARCENY-FROM VEHICLE\"]},\"selected\":{\"id\":\"1423\"},\"selection_policy\":{\"id\":\"1424\"}},\"id\":\"1375\",\"type\":\"ColumnDataSource\"},{\"attributes\":{\"fill_color\":{\"value\":\"darkslateblue\"},\"height\":{\"value\":0.7},\"line_color\":{\"value\":\"darkslateblue\"},\"line_width\":{\"value\":2},\"right\":{\"field\":\"Frequency\"},\"y\":{\"field\":\"__x__values\",\"transform\":{\"id\":\"1411\"}}},\"id\":\"1413\",\"type\":\"HBar\"},{\"attributes\":{},\"id\":\"1379\",\"type\":\"DataRange1d\"},{\"attributes\":{\"ticks\":[0,1,2,3,4,5,6,7,8,9,10]},\"id\":\"1430\",\"type\":\"FixedTicker\"},{\"attributes\":{},\"id\":\"1418\",\"type\":\"AllLabels\"},{\"attributes\":{\"click_policy\":\"hide\",\"items\":[{\"id\":\"1427\"}],\"visible\":false},\"id\":\"1426\",\"type\":\"Legend\"},{\"attributes\":{\"source\":{\"id\":\"1375\"}},\"id\":\"1416\",\"type\":\"CDSView\"},{\"attributes\":{},\"id\":\"1420\",\"type\":\"AllLabels\"},{\"attributes\":{\"data_source\":{\"id\":\"1375\"},\"glyph\":{\"id\":\"1413\"},\"hover_glyph\":null,\"muted_glyph\":null,\"nonselection_glyph\":{\"id\":\"1414\"},\"view\":{\"id\":\"1416\"}},\"id\":\"1415\",\"type\":\"GlyphRenderer\"},{\"attributes\":{\"code\":\"\\n                                    var labels = {0: 'HOMICIDE', 1: 'ROBBERY-RESIDENCE', 2: 'ROBBERY-COMMERCIAL', 3: 'RAPE', 4: 'BURGLARY-NONRES', 5: 'ROBBERY-PEDESTRIAN', 6: 'AGG ASSAULT', 7: 'BURGLARY-RESIDENCE', 8: 'AUTO THEFT', 9: 'LARCENY-NON VEHICLE', 10: 'LARCENY-FROM VEHICLE'};\\n                                    return labels[tick];\\n                                    \"},\"id\":\"1409\",\"type\":\"FuncTickFormatter\"},{\"attributes\":{},\"id\":\"1421\",\"type\":\"BasicTickFormatter\"},{\"attributes\":{\"label\":{\"value\":\" Frequency\"},\"renderers\":[{\"id\":\"1415\"}]},\"id\":\"1427\",\"type\":\"LegendItem\"},{\"attributes\":{},\"id\":\"1423\",\"type\":\"Selection\"},{\"attributes\":{\"axis_label\":\"Crime Type\",\"formatter\":{\"id\":\"1409\"},\"major_label_policy\":{\"id\":\"1418\"},\"ticker\":{\"id\":\"1430\"}},\"id\":\"1391\",\"type\":\"LinearAxis\"},{\"attributes\":{},\"id\":\"1424\",\"type\":\"UnionRenderers\"},{\"attributes\":{\"bottom_units\":\"screen\",\"fill_alpha\":0.5,\"fill_color\":\"lightgrey\",\"left_units\":\"screen\",\"level\":\"overlay\",\"line_alpha\":1.0,\"line_color\":\"black\",\"line_dash\":[4,4],\"line_width\":2,\"right_units\":\"screen\",\"syncable\":false,\"top_units\":\"screen\"},\"id\":\"1401\",\"type\":\"BoxAnnotation\"},{\"attributes\":{\"axis_label\":\"Frequency\",\"formatter\":{\"id\":\"1421\"},\"major_label_policy\":{\"id\":\"1420\"},\"ticker\":{\"id\":\"1388\"}},\"id\":\"1387\",\"type\":\"LinearAxis\"},{\"attributes\":{\"text\":\"Crimes frequency per type\"},\"id\":\"1377\",\"type\":\"Title\"},{\"attributes\":{\"range\":{\"id\":\"1381\"}},\"id\":\"1411\",\"type\":\"Dodge\"},{\"attributes\":{},\"id\":\"1381\",\"type\":\"DataRange1d\"},{\"attributes\":{},\"id\":\"1388\",\"type\":\"BasicTicker\"},{\"attributes\":{},\"id\":\"1383\",\"type\":\"LinearScale\"},{\"attributes\":{\"axis\":{\"id\":\"1387\"},\"ticker\":null},\"id\":\"1390\",\"type\":\"Grid\"},{\"attributes\":{},\"id\":\"1385\",\"type\":\"LinearScale\"}],\"root_ids\":[\"1376\"]},\"title\":\"Bokeh Application\",\"version\":\"2.3.1\"}};\n  var render_items = [{\"docid\":\"5a92392a-bb8f-473b-8c24-72c847d50389\",\"root_ids\":[\"1376\"],\"roots\":{\"1376\":\"40e85fe4-cc64-4b9e-940c-b57cf8cbee40\"}}];\n  root.Bokeh.embed.embed_items_notebook(docs_json, render_items);\n\n  }\n  if (root.Bokeh !== undefined) {\n    embed_document(root);\n  } else {\n    var attempts = 0;\n    var timer = setInterval(function(root) {\n      if (root.Bokeh !== undefined) {\n        clearInterval(timer);\n        embed_document(root);\n      } else {\n        attempts++;\n        if (attempts > 100) {\n          clearInterval(timer);\n          console.log(\"Bokeh: ERROR: Unable to run BokehJS code because BokehJS library is missing\");\n        }\n      }\n    }, 10, root)\n  }\n})(window);",
      "application/vnd.bokehjs_exec.v0+json": ""
     },
     "metadata": {
      "application/vnd.bokehjs_exec.v0+json": {
       "id": "1376"
      }
     },
     "output_type": "display_data"
    }
   ],
   "source": [
    "crimeTypeDF = extractDataService.getAllCrimesCountByTypeDataframe().reset_index(name='Frequency')\n",
    "crimeTypeFigure = crimeTypeDF.plot_bokeh(\n",
    "    title=\"Crimes frequency per type\",\n",
    "    figsize=(800, 450),\n",
    "    kind=\"barh\",\n",
    "    color=\"darkslateblue\",\n",
    "    x=\"crime_type\",\n",
    "    xlabel=\"Frequency\",\n",
    "    ylabel=\"Crime Type\",\n",
    "    toolbar_location=None,\n",
    "    zooming=False,\n",
    "    panning=False,\n",
    "    legend=None\n",
    ")\n",
    "exportService.addElementToExport(ResultUnit(crimeTypeFigure, \"crime_type.html\", ResultType.BOKEH_PLOT))"
   ],
   "metadata": {
    "collapsed": false,
    "pycharm": {
     "name": "#%%\n"
    }
   }
  },
  {
   "cell_type": "markdown",
   "source": [
    "Display crime distribution by day"
   ],
   "metadata": {
    "collapsed": false
   }
  },
  {
   "cell_type": "code",
   "execution_count": 7,
   "outputs": [
    {
     "data": {
      "text/html": "\n\n\n\n\n\n  <div class=\"bk-root\" id=\"e814cc07-9cab-404a-b919-4f1dd1634bf5\" data-root-id=\"1558\"></div>\n"
     },
     "metadata": {},
     "output_type": "display_data"
    },
    {
     "data": {
      "application/javascript": "(function(root) {\n  function embed_document(root) {\n    \n  var docs_json = {\"b1d466fb-5cb5-4839-a7a4-12845d825c98\":{\"defs\":[],\"roots\":{\"references\":[{\"attributes\":{\"below\":[{\"id\":\"1569\"}],\"center\":[{\"id\":\"1572\"},{\"id\":\"1576\"},{\"id\":\"1608\"}],\"height\":450,\"left\":[{\"id\":\"1573\"}],\"output_backend\":\"webgl\",\"renderers\":[{\"id\":\"1597\"}],\"sizing_mode\":\"fixed\",\"title\":{\"id\":\"1559\"},\"toolbar\":{\"id\":\"1584\"},\"toolbar_location\":null,\"width\":800,\"x_range\":{\"id\":\"1561\"},\"x_scale\":{\"id\":\"1565\"},\"y_range\":{\"id\":\"1563\"},\"y_scale\":{\"id\":\"1567\"}},\"id\":\"1558\",\"subtype\":\"Figure\",\"type\":\"Plot\"},{\"attributes\":{},\"id\":\"1574\",\"type\":\"BasicTicker\"},{\"attributes\":{\"axis\":{\"id\":\"1573\"},\"dimension\":1,\"ticker\":null},\"id\":\"1576\",\"type\":\"Grid\"},{\"attributes\":{\"axis\":{\"id\":\"1569\"},\"ticker\":null},\"id\":\"1572\",\"type\":\"Grid\"},{\"attributes\":{},\"id\":\"1578\",\"type\":\"WheelZoomTool\"},{\"attributes\":{},\"id\":\"1582\",\"type\":\"HelpTool\"},{\"attributes\":{},\"id\":\"1577\",\"type\":\"PanTool\"},{\"attributes\":{\"overlay\":{\"id\":\"1583\"}},\"id\":\"1579\",\"type\":\"BoxZoomTool\"},{\"attributes\":{},\"id\":\"1580\",\"type\":\"SaveTool\"},{\"attributes\":{\"active_drag\":null,\"active_multi\":null,\"active_scroll\":null,\"tools\":[{\"id\":\"1577\"},{\"id\":\"1578\"},{\"id\":\"1579\"},{\"id\":\"1580\"},{\"id\":\"1581\"},{\"id\":\"1582\"},{\"id\":\"1610\"}]},\"id\":\"1584\",\"type\":\"Toolbar\"},{\"attributes\":{},\"id\":\"1581\",\"type\":\"ResetTool\"},{\"attributes\":{\"fill_color\":{\"value\":\"indianred\"},\"line_color\":{\"value\":\"indianred\"},\"line_width\":{\"value\":2},\"top\":{\"field\":\"Frequency\"},\"width\":{\"value\":0.7},\"x\":{\"field\":\"__x__values\",\"transform\":{\"id\":\"1593\"}}},\"id\":\"1595\",\"type\":\"VBar\"},{\"attributes\":{\"data\":{\"Frequency\":[1864,3429,3447,3489,3534,3535,3548,3691],\"__x__values\":[0,1,2,3,4,5,6,7],\"__x__values_original\":[\"Unk\",\"Fri\",\"Thu\",\"Mon\",\"Tue\",\"Wed\",\"Sun\",\"Sat\"]},\"selected\":{\"id\":\"1605\"},\"selection_policy\":{\"id\":\"1606\"}},\"id\":\"1557\",\"type\":\"ColumnDataSource\"},{\"attributes\":{},\"id\":\"1565\",\"type\":\"LinearScale\"},{\"attributes\":{\"ticks\":[0,1,2,3,4,5,6,7]},\"id\":\"1612\",\"type\":\"FixedTicker\"},{\"attributes\":{},\"id\":\"1600\",\"type\":\"AllLabels\"},{\"attributes\":{\"click_policy\":\"hide\",\"items\":[{\"id\":\"1609\"}],\"visible\":false},\"id\":\"1608\",\"type\":\"Legend\"},{\"attributes\":{\"fill_alpha\":{\"value\":0.1},\"fill_color\":{\"value\":\"indianred\"},\"line_alpha\":{\"value\":0.1},\"line_color\":{\"value\":\"indianred\"},\"line_width\":{\"value\":2},\"top\":{\"field\":\"Frequency\"},\"width\":{\"value\":0.7},\"x\":{\"field\":\"__x__values\",\"transform\":{\"id\":\"1593\"}}},\"id\":\"1596\",\"type\":\"VBar\"},{\"attributes\":{},\"id\":\"1601\",\"type\":\"BasicTickFormatter\"},{\"attributes\":{\"source\":{\"id\":\"1557\"}},\"id\":\"1598\",\"type\":\"CDSView\"},{\"attributes\":{\"data_source\":{\"id\":\"1557\"},\"glyph\":{\"id\":\"1595\"},\"hover_glyph\":null,\"muted_glyph\":null,\"nonselection_glyph\":{\"id\":\"1596\"},\"view\":{\"id\":\"1598\"}},\"id\":\"1597\",\"type\":\"GlyphRenderer\"},{\"attributes\":{},\"id\":\"1603\",\"type\":\"AllLabels\"},{\"attributes\":{\"label\":{\"value\":\" Frequency\"},\"renderers\":[{\"id\":\"1597\"}]},\"id\":\"1609\",\"type\":\"LegendItem\"},{\"attributes\":{\"code\":\"\\n                                    var labels = {0: 'Unk', 1: 'Fri', 2: 'Thu', 3: 'Mon', 4: 'Tue', 5: 'Wed', 6: 'Sun', 7: 'Sat'};\\n                                    return labels[tick];\\n                                    \"},\"id\":\"1591\",\"type\":\"FuncTickFormatter\"},{\"attributes\":{},\"id\":\"1605\",\"type\":\"Selection\"},{\"attributes\":{\"axis_label\":\"Day\",\"formatter\":{\"id\":\"1591\"},\"major_label_policy\":{\"id\":\"1603\"},\"ticker\":{\"id\":\"1612\"}},\"id\":\"1569\",\"type\":\"LinearAxis\"},{\"attributes\":{},\"id\":\"1606\",\"type\":\"UnionRenderers\"},{\"attributes\":{\"axis_label\":\"Frequency\",\"formatter\":{\"id\":\"1601\"},\"major_label_policy\":{\"id\":\"1600\"},\"ticker\":{\"id\":\"1574\"}},\"id\":\"1573\",\"type\":\"LinearAxis\"},{\"attributes\":{\"bottom_units\":\"screen\",\"fill_alpha\":0.5,\"fill_color\":\"lightgrey\",\"left_units\":\"screen\",\"level\":\"overlay\",\"line_alpha\":1.0,\"line_color\":\"black\",\"line_dash\":[4,4],\"line_width\":2,\"right_units\":\"screen\",\"syncable\":false,\"top_units\":\"screen\"},\"id\":\"1583\",\"type\":\"BoxAnnotation\"},{\"attributes\":{\"text\":\"Crimes frequency per day\"},\"id\":\"1559\",\"type\":\"Title\"},{\"attributes\":{},\"id\":\"1561\",\"type\":\"DataRange1d\"},{\"attributes\":{\"range\":{\"id\":\"1561\"}},\"id\":\"1593\",\"type\":\"Dodge\"},{\"attributes\":{},\"id\":\"1563\",\"type\":\"DataRange1d\"},{\"attributes\":{\"callback\":null,\"mode\":\"vline\",\"renderers\":[{\"id\":\"1597\"}],\"tooltips\":[[\"Day\",\"@__x__values_original\"],[\"Frequency\",\"@{Frequency}\"]]},\"id\":\"1610\",\"type\":\"HoverTool\"},{\"attributes\":{},\"id\":\"1567\",\"type\":\"LinearScale\"}],\"root_ids\":[\"1558\"]},\"title\":\"Bokeh Application\",\"version\":\"2.3.1\"}};\n  var render_items = [{\"docid\":\"b1d466fb-5cb5-4839-a7a4-12845d825c98\",\"root_ids\":[\"1558\"],\"roots\":{\"1558\":\"e814cc07-9cab-404a-b919-4f1dd1634bf5\"}}];\n  root.Bokeh.embed.embed_items_notebook(docs_json, render_items);\n\n  }\n  if (root.Bokeh !== undefined) {\n    embed_document(root);\n  } else {\n    var attempts = 0;\n    var timer = setInterval(function(root) {\n      if (root.Bokeh !== undefined) {\n        clearInterval(timer);\n        embed_document(root);\n      } else {\n        attempts++;\n        if (attempts > 100) {\n          clearInterval(timer);\n          console.log(\"Bokeh: ERROR: Unable to run BokehJS code because BokehJS library is missing\");\n        }\n      }\n    }, 10, root)\n  }\n})(window);",
      "application/vnd.bokehjs_exec.v0+json": ""
     },
     "metadata": {
      "application/vnd.bokehjs_exec.v0+json": {
       "id": "1558"
      }
     },
     "output_type": "display_data"
    }
   ],
   "source": [
    "crimeByDayDF = extractDataService.getAllCrimesCountByDayDataframe().reset_index(name='Frequency')\n",
    "crimeByDayFigure = crimeByDayDF.plot_bokeh(\n",
    "    title=\"Crimes frequency per day\",\n",
    "    figsize=(800, 450),\n",
    "    kind=\"bar\",\n",
    "    color=\"indianred\",\n",
    "    x=\"avg_day\",\n",
    "    ylabel=\"Frequency\",\n",
    "    xlabel=\"Day\",\n",
    "    toolbar_location=None,\n",
    "    zooming=False,\n",
    "    panning=False,\n",
    "    legend=None\n",
    ")\n",
    "exportService.addElementToExport(ResultUnit(crimeByDayFigure, \"crime_day.html\", ResultType.BOKEH_PLOT))"
   ],
   "metadata": {
    "collapsed": false,
    "pycharm": {
     "name": "#%%\n"
    }
   }
  },
  {
   "cell_type": "markdown",
   "source": [
    "Display Type crime distribution by day"
   ],
   "metadata": {
    "collapsed": false
   }
  },
  {
   "cell_type": "code",
   "execution_count": 8,
   "outputs": [
    {
     "data": {
      "text/html": "\n\n\n\n\n\n  <div class=\"bk-root\" id=\"057db9f8-8a7a-4e37-965c-fc7d59cdb885\" data-root-id=\"1748\"></div>\n"
     },
     "metadata": {},
     "output_type": "display_data"
    },
    {
     "data": {
      "application/javascript": "(function(root) {\n  function embed_document(root) {\n    \n  var docs_json = {\"dab60a6e-1423-4c07-bf51-3ad34fac9202\":{\"defs\":[],\"roots\":{\"references\":[{\"attributes\":{\"below\":[{\"id\":\"1759\"}],\"center\":[{\"id\":\"1762\"},{\"id\":\"1766\"},{\"id\":\"1819\"}],\"height\":450,\"left\":[{\"id\":\"1763\"}],\"output_backend\":\"webgl\",\"renderers\":[{\"id\":\"1808\"},{\"id\":\"1824\"},{\"id\":\"1839\"},{\"id\":\"1854\"},{\"id\":\"1869\"},{\"id\":\"1884\"},{\"id\":\"1899\"},{\"id\":\"1914\"},{\"id\":\"1929\"},{\"id\":\"1944\"},{\"id\":\"1959\"}],\"sizing_mode\":\"fixed\",\"title\":{\"id\":\"1749\"},\"toolbar\":{\"id\":\"1774\"},\"toolbar_location\":null,\"width\":800,\"x_range\":{\"id\":\"1751\"},\"x_scale\":{\"id\":\"1755\"},\"y_range\":{\"id\":\"1753\"},\"y_scale\":{\"id\":\"1757\"}},\"id\":\"1748\",\"subtype\":\"Figure\",\"type\":\"Plot\"},{\"attributes\":{},\"id\":\"1816\",\"type\":\"Selection\"},{\"attributes\":{\"data_source\":{\"id\":\"1747\"},\"glyph\":{\"id\":\"1882\"},\"hover_glyph\":null,\"muted_glyph\":null,\"name\":\"ROBBERY-PEDESTRIAN\",\"nonselection_glyph\":{\"id\":\"1883\"},\"view\":{\"id\":\"1885\"}},\"id\":\"1884\",\"type\":\"GlyphRenderer\"},{\"attributes\":{},\"id\":\"1817\",\"type\":\"UnionRenderers\"},{\"attributes\":{\"label\":{\"value\":\"ROBBERY-PEDESTRIAN\"},\"renderers\":[{\"id\":\"1884\"}]},\"id\":\"1895\",\"type\":\"LegendItem\"},{\"attributes\":{\"bottom\":{\"expr\":{\"id\":\"1793\"}},\"fill_alpha\":{\"value\":0.1},\"fill_color\":{\"value\":\"#98df8a\"},\"line_alpha\":{\"value\":0.1},\"line_color\":{\"value\":\"#98df8a\"},\"line_width\":{\"value\":2},\"top\":{\"expr\":{\"id\":\"1794\"}},\"width\":{\"value\":0.8},\"x\":{\"field\":\"__x__values\"}},\"id\":\"1883\",\"type\":\"VBar\"},{\"attributes\":{\"fields\":[\"LARCENY-FROM VEHICLE\"]},\"id\":\"1785\",\"type\":\"Stack\"},{\"attributes\":{\"fields\":[\"LARCENY-FROM VEHICLE\",\"LARCENY-NON VEHICLE\",\"AUTO THEFT\",\"BURGLARY-RESIDENCE\",\"AGG ASSAULT\",\"ROBBERY-PEDESTRIAN\",\"BURGLARY-NONRES\"]},\"id\":\"1797\",\"type\":\"Stack\"},{\"attributes\":{\"source\":{\"id\":\"1747\"}},\"id\":\"1885\",\"type\":\"CDSView\"},{\"attributes\":{\"fields\":[\"LARCENY-FROM VEHICLE\",\"LARCENY-NON VEHICLE\"]},\"id\":\"1786\",\"type\":\"Stack\"},{\"attributes\":{\"fields\":[]},\"id\":\"1783\",\"type\":\"Stack\"},{\"attributes\":{\"bottom\":{\"expr\":{\"id\":\"1795\"}},\"fill_color\":{\"value\":\"#d62728\"},\"line_color\":{\"value\":\"#d62728\"},\"line_width\":{\"value\":2},\"top\":{\"expr\":{\"id\":\"1796\"}},\"width\":{\"value\":0.8},\"x\":{\"field\":\"__x__values\"}},\"id\":\"1897\",\"type\":\"VBar\"},{\"attributes\":{\"fields\":[\"LARCENY-FROM VEHICLE\",\"LARCENY-NON VEHICLE\"]},\"id\":\"1787\",\"type\":\"Stack\"},{\"attributes\":{\"fields\":[\"LARCENY-FROM VEHICLE\"]},\"id\":\"1784\",\"type\":\"Stack\"},{\"attributes\":{\"fields\":[\"LARCENY-FROM VEHICLE\",\"LARCENY-NON VEHICLE\",\"AUTO THEFT\",\"BURGLARY-RESIDENCE\",\"AGG ASSAULT\",\"ROBBERY-PEDESTRIAN\",\"BURGLARY-NONRES\"]},\"id\":\"1796\",\"type\":\"Stack\"},{\"attributes\":{\"fields\":[\"LARCENY-FROM VEHICLE\",\"LARCENY-NON VEHICLE\",\"AUTO THEFT\"]},\"id\":\"1788\",\"type\":\"Stack\"},{\"attributes\":{\"fields\":[\"LARCENY-FROM VEHICLE\",\"LARCENY-NON VEHICLE\",\"AUTO THEFT\"]},\"id\":\"1789\",\"type\":\"Stack\"},{\"attributes\":{\"fields\":[\"LARCENY-FROM VEHICLE\",\"LARCENY-NON VEHICLE\",\"AUTO THEFT\",\"BURGLARY-RESIDENCE\"]},\"id\":\"1790\",\"type\":\"Stack\"},{\"attributes\":{\"bottom\":{\"expr\":{\"id\":\"1797\"}},\"fill_alpha\":{\"value\":0.1},\"fill_color\":{\"value\":\"#ff9896\"},\"line_alpha\":{\"value\":0.1},\"line_color\":{\"value\":\"#ff9896\"},\"line_width\":{\"value\":2},\"top\":{\"expr\":{\"id\":\"1798\"}},\"width\":{\"value\":0.8},\"x\":{\"field\":\"__x__values\"}},\"id\":\"1913\",\"type\":\"VBar\"},{\"attributes\":{\"fields\":[\"LARCENY-FROM VEHICLE\",\"LARCENY-NON VEHICLE\",\"AUTO THEFT\",\"BURGLARY-RESIDENCE\"]},\"id\":\"1791\",\"type\":\"Stack\"},{\"attributes\":{},\"id\":\"1771\",\"type\":\"ResetTool\"},{\"attributes\":{\"fields\":[\"LARCENY-FROM VEHICLE\",\"LARCENY-NON VEHICLE\",\"AUTO THEFT\",\"BURGLARY-RESIDENCE\",\"AGG ASSAULT\"]},\"id\":\"1792\",\"type\":\"Stack\"},{\"attributes\":{\"fields\":[\"LARCENY-FROM VEHICLE\",\"LARCENY-NON VEHICLE\",\"AUTO THEFT\",\"BURGLARY-RESIDENCE\",\"AGG ASSAULT\",\"ROBBERY-PEDESTRIAN\"]},\"id\":\"1795\",\"type\":\"Stack\"},{\"attributes\":{\"fields\":[\"LARCENY-FROM VEHICLE\",\"LARCENY-NON VEHICLE\",\"AUTO THEFT\",\"BURGLARY-RESIDENCE\",\"AGG ASSAULT\"]},\"id\":\"1793\",\"type\":\"Stack\"},{\"attributes\":{\"fields\":[\"LARCENY-FROM VEHICLE\",\"LARCENY-NON VEHICLE\",\"AUTO THEFT\",\"BURGLARY-RESIDENCE\",\"AGG ASSAULT\",\"ROBBERY-PEDESTRIAN\",\"BURGLARY-NONRES\",\"ROBBERY-COMMERCIAL\"]},\"id\":\"1799\",\"type\":\"Stack\"},{\"attributes\":{\"fields\":[\"LARCENY-FROM VEHICLE\",\"LARCENY-NON VEHICLE\",\"AUTO THEFT\",\"BURGLARY-RESIDENCE\",\"AGG ASSAULT\",\"ROBBERY-PEDESTRIAN\"]},\"id\":\"1794\",\"type\":\"Stack\"},{\"attributes\":{\"fields\":[\"LARCENY-FROM VEHICLE\",\"LARCENY-NON VEHICLE\",\"AUTO THEFT\",\"BURGLARY-RESIDENCE\",\"AGG ASSAULT\",\"ROBBERY-PEDESTRIAN\",\"BURGLARY-NONRES\",\"ROBBERY-COMMERCIAL\",\"RAPE\"]},\"id\":\"1801\",\"type\":\"Stack\"},{\"attributes\":{\"fields\":[\"LARCENY-FROM VEHICLE\",\"LARCENY-NON VEHICLE\",\"AUTO THEFT\",\"BURGLARY-RESIDENCE\",\"AGG ASSAULT\",\"ROBBERY-PEDESTRIAN\",\"BURGLARY-NONRES\",\"ROBBERY-COMMERCIAL\"]},\"id\":\"1798\",\"type\":\"Stack\"},{\"attributes\":{\"fields\":[\"LARCENY-FROM VEHICLE\",\"LARCENY-NON VEHICLE\",\"AUTO THEFT\",\"BURGLARY-RESIDENCE\",\"AGG ASSAULT\",\"ROBBERY-PEDESTRIAN\",\"BURGLARY-NONRES\",\"ROBBERY-COMMERCIAL\",\"RAPE\"]},\"id\":\"1800\",\"type\":\"Stack\"},{\"attributes\":{\"code\":\"\\n                                    var labels = {0: 'Fri', 1: 'Mon', 2: 'Sat', 3: 'Sun', 4: 'Thu', 5: 'Tue', 6: 'Unk', 7: 'Wed'};\\n                                    return labels[tick];\\n                                    \"},\"id\":\"1781\",\"type\":\"FuncTickFormatter\"},{\"attributes\":{\"axis_label\":\"Day\",\"formatter\":{\"id\":\"1781\"},\"major_label_policy\":{\"id\":\"1814\"},\"ticker\":{\"id\":\"1973\"}},\"id\":\"1759\",\"type\":\"LinearAxis\"},{\"attributes\":{\"fields\":[\"LARCENY-FROM VEHICLE\",\"LARCENY-NON VEHICLE\",\"AUTO THEFT\",\"BURGLARY-RESIDENCE\",\"AGG ASSAULT\",\"ROBBERY-PEDESTRIAN\",\"BURGLARY-NONRES\",\"ROBBERY-COMMERCIAL\",\"RAPE\",\"ROBBERY-RESIDENCE\"]},\"id\":\"1802\",\"type\":\"Stack\"},{\"attributes\":{\"text\":\"Crimes frequency per day\"},\"id\":\"1749\",\"type\":\"Title\"},{\"attributes\":{\"overlay\":{\"id\":\"1773\"}},\"id\":\"1769\",\"type\":\"BoxZoomTool\"},{\"attributes\":{\"fields\":[\"LARCENY-FROM VEHICLE\",\"LARCENY-NON VEHICLE\",\"AUTO THEFT\",\"BURGLARY-RESIDENCE\",\"AGG ASSAULT\",\"ROBBERY-PEDESTRIAN\",\"BURGLARY-NONRES\",\"ROBBERY-COMMERCIAL\",\"RAPE\",\"ROBBERY-RESIDENCE\"]},\"id\":\"1803\",\"type\":\"Stack\"},{\"attributes\":{},\"id\":\"1751\",\"type\":\"DataRange1d\"},{\"attributes\":{\"fields\":[\"LARCENY-FROM VEHICLE\",\"LARCENY-NON VEHICLE\",\"AUTO THEFT\",\"BURGLARY-RESIDENCE\",\"AGG ASSAULT\",\"ROBBERY-PEDESTRIAN\",\"BURGLARY-NONRES\",\"ROBBERY-COMMERCIAL\",\"RAPE\",\"ROBBERY-RESIDENCE\",\"HOMICIDE\"]},\"id\":\"1804\",\"type\":\"Stack\"},{\"attributes\":{\"callback\":null,\"mode\":\"vline\",\"renderers\":[{\"id\":\"1959\"}],\"tooltips\":[[\"Day\",\"@__x__values_original\"],[\"LARCENY-FROM VEHICLE\",\"@{LARCENY-FROM VEHICLE}\"],[\"LARCENY-NON VEHICLE\",\"@{LARCENY-NON VEHICLE}\"],[\"AUTO THEFT\",\"@{AUTO THEFT}\"],[\"BURGLARY-RESIDENCE\",\"@{BURGLARY-RESIDENCE}\"],[\"AGG ASSAULT\",\"@{AGG ASSAULT}\"],[\"ROBBERY-PEDESTRIAN\",\"@{ROBBERY-PEDESTRIAN}\"],[\"BURGLARY-NONRES\",\"@{BURGLARY-NONRES}\"],[\"ROBBERY-COMMERCIAL\",\"@{ROBBERY-COMMERCIAL}\"],[\"RAPE\",\"@{RAPE}\"],[\"ROBBERY-RESIDENCE\",\"@{ROBBERY-RESIDENCE}\"],[\"HOMICIDE\",\"@{HOMICIDE}\"]]},\"id\":\"1971\",\"type\":\"HoverTool\"},{\"attributes\":{\"bottom\":{\"expr\":{\"id\":\"1783\"}},\"fill_color\":{\"value\":\"#1f77b4\"},\"line_color\":{\"value\":\"#1f77b4\"},\"line_width\":{\"value\":2},\"top\":{\"expr\":{\"id\":\"1784\"}},\"width\":{\"value\":0.8},\"x\":{\"field\":\"__x__values\"}},\"id\":\"1806\",\"type\":\"VBar\"},{\"attributes\":{\"bottom\":{\"expr\":{\"id\":\"1785\"}},\"fill_color\":{\"value\":\"#aec7e8\"},\"line_color\":{\"value\":\"#aec7e8\"},\"line_width\":{\"value\":2},\"top\":{\"expr\":{\"id\":\"1786\"}},\"width\":{\"value\":0.8},\"x\":{\"field\":\"__x__values\"}},\"id\":\"1822\",\"type\":\"VBar\"},{\"attributes\":{\"data_source\":{\"id\":\"1747\"},\"glyph\":{\"id\":\"1806\"},\"hover_glyph\":null,\"muted_glyph\":null,\"name\":\"LARCENY-FROM VEHICLE\",\"nonselection_glyph\":{\"id\":\"1807\"},\"view\":{\"id\":\"1809\"}},\"id\":\"1808\",\"type\":\"GlyphRenderer\"},{\"attributes\":{},\"id\":\"1755\",\"type\":\"LinearScale\"},{\"attributes\":{\"bottom\":{\"expr\":{\"id\":\"1783\"}},\"fill_alpha\":{\"value\":0.1},\"fill_color\":{\"value\":\"#1f77b4\"},\"line_alpha\":{\"value\":0.1},\"line_color\":{\"value\":\"#1f77b4\"},\"line_width\":{\"value\":2},\"top\":{\"expr\":{\"id\":\"1784\"}},\"width\":{\"value\":0.8},\"x\":{\"field\":\"__x__values\"}},\"id\":\"1807\",\"type\":\"VBar\"},{\"attributes\":{\"bottom\":{\"expr\":{\"id\":\"1785\"}},\"fill_alpha\":{\"value\":0.1},\"fill_color\":{\"value\":\"#aec7e8\"},\"line_alpha\":{\"value\":0.1},\"line_color\":{\"value\":\"#aec7e8\"},\"line_width\":{\"value\":2},\"top\":{\"expr\":{\"id\":\"1786\"}},\"width\":{\"value\":0.8},\"x\":{\"field\":\"__x__values\"}},\"id\":\"1823\",\"type\":\"VBar\"},{\"attributes\":{},\"id\":\"1753\",\"type\":\"DataRange1d\"},{\"attributes\":{\"bottom\":{\"expr\":{\"id\":\"1795\"}},\"fill_alpha\":{\"value\":0.1},\"fill_color\":{\"value\":\"#d62728\"},\"line_alpha\":{\"value\":0.1},\"line_color\":{\"value\":\"#d62728\"},\"line_width\":{\"value\":2},\"top\":{\"expr\":{\"id\":\"1796\"}},\"width\":{\"value\":0.8},\"x\":{\"field\":\"__x__values\"}},\"id\":\"1898\",\"type\":\"VBar\"},{\"attributes\":{\"label\":{\"value\":\"LARCENY-FROM VEHICLE\"},\"renderers\":[{\"id\":\"1808\"}]},\"id\":\"1820\",\"type\":\"LegendItem\"},{\"attributes\":{\"source\":{\"id\":\"1747\"}},\"id\":\"1809\",\"type\":\"CDSView\"},{\"attributes\":{\"label\":{\"value\":\"LARCENY-NON VEHICLE\"},\"renderers\":[{\"id\":\"1824\"}]},\"id\":\"1835\",\"type\":\"LegendItem\"},{\"attributes\":{},\"id\":\"1767\",\"type\":\"PanTool\"},{\"attributes\":{\"data_source\":{\"id\":\"1747\"},\"glyph\":{\"id\":\"1957\"},\"hover_glyph\":null,\"muted_glyph\":null,\"name\":\"HOMICIDE\",\"nonselection_glyph\":{\"id\":\"1958\"},\"view\":{\"id\":\"1960\"}},\"id\":\"1959\",\"type\":\"GlyphRenderer\"},{\"attributes\":{\"items\":[{\"id\":\"1820\"},{\"id\":\"1835\"},{\"id\":\"1850\"},{\"id\":\"1865\"},{\"id\":\"1880\"},{\"id\":\"1895\"},{\"id\":\"1910\"},{\"id\":\"1925\"},{\"id\":\"1940\"},{\"id\":\"1955\"},{\"id\":\"1970\"}],\"visible\":false},\"id\":\"1819\",\"type\":\"Legend\"},{\"attributes\":{\"ticks\":[0,1,2,3,4,5,6,7]},\"id\":\"1973\",\"type\":\"FixedTicker\"},{\"attributes\":{\"bottom_units\":\"screen\",\"fill_alpha\":0.5,\"fill_color\":\"lightgrey\",\"left_units\":\"screen\",\"level\":\"overlay\",\"line_alpha\":1.0,\"line_color\":\"black\",\"line_dash\":[4,4],\"line_width\":2,\"right_units\":\"screen\",\"syncable\":false,\"top_units\":\"screen\"},\"id\":\"1773\",\"type\":\"BoxAnnotation\"},{\"attributes\":{\"source\":{\"id\":\"1747\"}},\"id\":\"1960\",\"type\":\"CDSView\"},{\"attributes\":{\"source\":{\"id\":\"1747\"}},\"id\":\"1915\",\"type\":\"CDSView\"},{\"attributes\":{},\"id\":\"1772\",\"type\":\"HelpTool\"},{\"attributes\":{\"bottom\":{\"expr\":{\"id\":\"1803\"}},\"fill_alpha\":{\"value\":0.1},\"fill_color\":{\"value\":\"#8c564b\"},\"line_alpha\":{\"value\":0.1},\"line_color\":{\"value\":\"#8c564b\"},\"line_width\":{\"value\":2},\"top\":{\"expr\":{\"id\":\"1804\"}},\"width\":{\"value\":0.8},\"x\":{\"field\":\"__x__values\"}},\"id\":\"1958\",\"type\":\"VBar\"},{\"attributes\":{\"label\":{\"value\":\"HOMICIDE\"},\"renderers\":[{\"id\":\"1959\"}]},\"id\":\"1970\",\"type\":\"LegendItem\"},{\"attributes\":{\"source\":{\"id\":\"1747\"}},\"id\":\"1825\",\"type\":\"CDSView\"},{\"attributes\":{\"bottom\":{\"expr\":{\"id\":\"1787\"}},\"fill_color\":{\"value\":\"#ff7f0e\"},\"line_color\":{\"value\":\"#ff7f0e\"},\"line_width\":{\"value\":2},\"top\":{\"expr\":{\"id\":\"1788\"}},\"width\":{\"value\":0.8},\"x\":{\"field\":\"__x__values\"}},\"id\":\"1837\",\"type\":\"VBar\"},{\"attributes\":{\"active_drag\":null,\"active_multi\":null,\"active_scroll\":{\"id\":\"1768\"},\"tools\":[{\"id\":\"1767\"},{\"id\":\"1768\"},{\"id\":\"1769\"},{\"id\":\"1770\"},{\"id\":\"1771\"},{\"id\":\"1772\"},{\"id\":\"1971\"}]},\"id\":\"1774\",\"type\":\"Toolbar\"},{\"attributes\":{\"bottom\":{\"expr\":{\"id\":\"1799\"}},\"fill_color\":{\"value\":\"#9467bd\"},\"line_color\":{\"value\":\"#9467bd\"},\"line_width\":{\"value\":2},\"top\":{\"expr\":{\"id\":\"1800\"}},\"width\":{\"value\":0.8},\"x\":{\"field\":\"__x__values\"}},\"id\":\"1927\",\"type\":\"VBar\"},{\"attributes\":{\"data_source\":{\"id\":\"1747\"},\"glyph\":{\"id\":\"1912\"},\"hover_glyph\":null,\"muted_glyph\":null,\"name\":\"ROBBERY-COMMERCIAL\",\"nonselection_glyph\":{\"id\":\"1913\"},\"view\":{\"id\":\"1915\"}},\"id\":\"1914\",\"type\":\"GlyphRenderer\"},{\"attributes\":{\"data_source\":{\"id\":\"1747\"},\"glyph\":{\"id\":\"1822\"},\"hover_glyph\":null,\"muted_glyph\":null,\"name\":\"LARCENY-NON VEHICLE\",\"nonselection_glyph\":{\"id\":\"1823\"},\"view\":{\"id\":\"1825\"}},\"id\":\"1824\",\"type\":\"GlyphRenderer\"},{\"attributes\":{\"data_source\":{\"id\":\"1747\"},\"glyph\":{\"id\":\"1837\"},\"hover_glyph\":null,\"muted_glyph\":null,\"name\":\"AUTO THEFT\",\"nonselection_glyph\":{\"id\":\"1838\"},\"view\":{\"id\":\"1840\"}},\"id\":\"1839\",\"type\":\"GlyphRenderer\"},{\"attributes\":{},\"id\":\"1811\",\"type\":\"AllLabels\"},{\"attributes\":{\"bottom\":{\"expr\":{\"id\":\"1789\"}},\"fill_color\":{\"value\":\"#ffbb78\"},\"line_color\":{\"value\":\"#ffbb78\"},\"line_width\":{\"value\":2},\"top\":{\"expr\":{\"id\":\"1790\"}},\"width\":{\"value\":0.8},\"x\":{\"field\":\"__x__values\"}},\"id\":\"1852\",\"type\":\"VBar\"},{\"attributes\":{},\"id\":\"1768\",\"type\":\"WheelZoomTool\"},{\"attributes\":{\"axis\":{\"id\":\"1759\"},\"ticker\":null},\"id\":\"1762\",\"type\":\"Grid\"},{\"attributes\":{\"data_source\":{\"id\":\"1747\"},\"glyph\":{\"id\":\"1897\"},\"hover_glyph\":null,\"muted_glyph\":null,\"name\":\"BURGLARY-NONRES\",\"nonselection_glyph\":{\"id\":\"1898\"},\"view\":{\"id\":\"1900\"}},\"id\":\"1899\",\"type\":\"GlyphRenderer\"},{\"attributes\":{},\"id\":\"1812\",\"type\":\"BasicTickFormatter\"},{\"attributes\":{\"source\":{\"id\":\"1747\"}},\"id\":\"1900\",\"type\":\"CDSView\"},{\"attributes\":{},\"id\":\"1757\",\"type\":\"LinearScale\"},{\"attributes\":{\"label\":{\"value\":\"ROBBERY-COMMERCIAL\"},\"renderers\":[{\"id\":\"1914\"}]},\"id\":\"1925\",\"type\":\"LegendItem\"},{\"attributes\":{\"bottom\":{\"expr\":{\"id\":\"1787\"}},\"fill_alpha\":{\"value\":0.1},\"fill_color\":{\"value\":\"#ff7f0e\"},\"line_alpha\":{\"value\":0.1},\"line_color\":{\"value\":\"#ff7f0e\"},\"line_width\":{\"value\":2},\"top\":{\"expr\":{\"id\":\"1788\"}},\"width\":{\"value\":0.8},\"x\":{\"field\":\"__x__values\"}},\"id\":\"1838\",\"type\":\"VBar\"},{\"attributes\":{\"axis_label\":\"Frequency\",\"formatter\":{\"id\":\"1812\"},\"major_label_policy\":{\"id\":\"1811\"},\"ticker\":{\"id\":\"1764\"}},\"id\":\"1763\",\"type\":\"LinearAxis\"},{\"attributes\":{},\"id\":\"1770\",\"type\":\"SaveTool\"},{\"attributes\":{\"axis\":{\"id\":\"1763\"},\"dimension\":1,\"ticker\":null},\"id\":\"1766\",\"type\":\"Grid\"},{\"attributes\":{\"label\":{\"value\":\"AUTO THEFT\"},\"renderers\":[{\"id\":\"1839\"}]},\"id\":\"1850\",\"type\":\"LegendItem\"},{\"attributes\":{},\"id\":\"1814\",\"type\":\"AllLabels\"},{\"attributes\":{\"source\":{\"id\":\"1747\"}},\"id\":\"1840\",\"type\":\"CDSView\"},{\"attributes\":{},\"id\":\"1764\",\"type\":\"BasicTicker\"},{\"attributes\":{\"data_source\":{\"id\":\"1747\"},\"glyph\":{\"id\":\"1852\"},\"hover_glyph\":null,\"muted_glyph\":null,\"name\":\"BURGLARY-RESIDENCE\",\"nonselection_glyph\":{\"id\":\"1853\"},\"view\":{\"id\":\"1855\"}},\"id\":\"1854\",\"type\":\"GlyphRenderer\"},{\"attributes\":{\"data_source\":{\"id\":\"1747\"},\"glyph\":{\"id\":\"1927\"},\"hover_glyph\":null,\"muted_glyph\":null,\"name\":\"RAPE\",\"nonselection_glyph\":{\"id\":\"1928\"},\"view\":{\"id\":\"1930\"}},\"id\":\"1929\",\"type\":\"GlyphRenderer\"},{\"attributes\":{\"label\":{\"value\":\"BURGLARY-NONRES\"},\"renderers\":[{\"id\":\"1899\"}]},\"id\":\"1910\",\"type\":\"LegendItem\"},{\"attributes\":{\"bottom\":{\"expr\":{\"id\":\"1797\"}},\"fill_color\":{\"value\":\"#ff9896\"},\"line_color\":{\"value\":\"#ff9896\"},\"line_width\":{\"value\":2},\"top\":{\"expr\":{\"id\":\"1798\"}},\"width\":{\"value\":0.8},\"x\":{\"field\":\"__x__values\"}},\"id\":\"1912\",\"type\":\"VBar\"},{\"attributes\":{\"bottom\":{\"expr\":{\"id\":\"1789\"}},\"fill_alpha\":{\"value\":0.1},\"fill_color\":{\"value\":\"#ffbb78\"},\"line_alpha\":{\"value\":0.1},\"line_color\":{\"value\":\"#ffbb78\"},\"line_width\":{\"value\":2},\"top\":{\"expr\":{\"id\":\"1790\"}},\"width\":{\"value\":0.8},\"x\":{\"field\":\"__x__values\"}},\"id\":\"1853\",\"type\":\"VBar\"},{\"attributes\":{\"label\":{\"value\":\"BURGLARY-RESIDENCE\"},\"renderers\":[{\"id\":\"1854\"}]},\"id\":\"1865\",\"type\":\"LegendItem\"},{\"attributes\":{\"source\":{\"id\":\"1747\"}},\"id\":\"1855\",\"type\":\"CDSView\"},{\"attributes\":{\"source\":{\"id\":\"1747\"}},\"id\":\"1930\",\"type\":\"CDSView\"},{\"attributes\":{\"label\":{\"value\":\"RAPE\"},\"renderers\":[{\"id\":\"1929\"}]},\"id\":\"1940\",\"type\":\"LegendItem\"},{\"attributes\":{\"bottom\":{\"expr\":{\"id\":\"1801\"}},\"fill_color\":{\"value\":\"#c5b0d5\"},\"line_color\":{\"value\":\"#c5b0d5\"},\"line_width\":{\"value\":2},\"top\":{\"expr\":{\"id\":\"1802\"}},\"width\":{\"value\":0.8},\"x\":{\"field\":\"__x__values\"}},\"id\":\"1942\",\"type\":\"VBar\"},{\"attributes\":{\"bottom\":{\"expr\":{\"id\":\"1799\"}},\"fill_alpha\":{\"value\":0.1},\"fill_color\":{\"value\":\"#9467bd\"},\"line_alpha\":{\"value\":0.1},\"line_color\":{\"value\":\"#9467bd\"},\"line_width\":{\"value\":2},\"top\":{\"expr\":{\"id\":\"1800\"}},\"width\":{\"value\":0.8},\"x\":{\"field\":\"__x__values\"}},\"id\":\"1928\",\"type\":\"VBar\"},{\"attributes\":{\"source\":{\"id\":\"1747\"}},\"id\":\"1945\",\"type\":\"CDSView\"},{\"attributes\":{\"label\":{\"value\":\"ROBBERY-RESIDENCE\"},\"renderers\":[{\"id\":\"1944\"}]},\"id\":\"1955\",\"type\":\"LegendItem\"},{\"attributes\":{\"bottom\":{\"expr\":{\"id\":\"1791\"}},\"fill_color\":{\"value\":\"#2ca02c\"},\"line_color\":{\"value\":\"#2ca02c\"},\"line_width\":{\"value\":2},\"top\":{\"expr\":{\"id\":\"1792\"}},\"width\":{\"value\":0.8},\"x\":{\"field\":\"__x__values\"}},\"id\":\"1867\",\"type\":\"VBar\"},{\"attributes\":{\"bottom\":{\"expr\":{\"id\":\"1793\"}},\"fill_color\":{\"value\":\"#98df8a\"},\"line_color\":{\"value\":\"#98df8a\"},\"line_width\":{\"value\":2},\"top\":{\"expr\":{\"id\":\"1794\"}},\"width\":{\"value\":0.8},\"x\":{\"field\":\"__x__values\"}},\"id\":\"1882\",\"type\":\"VBar\"},{\"attributes\":{\"data_source\":{\"id\":\"1747\"},\"glyph\":{\"id\":\"1867\"},\"hover_glyph\":null,\"muted_glyph\":null,\"name\":\"AGG ASSAULT\",\"nonselection_glyph\":{\"id\":\"1868\"},\"view\":{\"id\":\"1870\"}},\"id\":\"1869\",\"type\":\"GlyphRenderer\"},{\"attributes\":{\"bottom\":{\"expr\":{\"id\":\"1791\"}},\"fill_alpha\":{\"value\":0.1},\"fill_color\":{\"value\":\"#2ca02c\"},\"line_alpha\":{\"value\":0.1},\"line_color\":{\"value\":\"#2ca02c\"},\"line_width\":{\"value\":2},\"top\":{\"expr\":{\"id\":\"1792\"}},\"width\":{\"value\":0.8},\"x\":{\"field\":\"__x__values\"}},\"id\":\"1868\",\"type\":\"VBar\"},{\"attributes\":{\"bottom\":{\"expr\":{\"id\":\"1801\"}},\"fill_alpha\":{\"value\":0.1},\"fill_color\":{\"value\":\"#c5b0d5\"},\"line_alpha\":{\"value\":0.1},\"line_color\":{\"value\":\"#c5b0d5\"},\"line_width\":{\"value\":2},\"top\":{\"expr\":{\"id\":\"1802\"}},\"width\":{\"value\":0.8},\"x\":{\"field\":\"__x__values\"}},\"id\":\"1943\",\"type\":\"VBar\"},{\"attributes\":{\"label\":{\"value\":\"AGG ASSAULT\"},\"renderers\":[{\"id\":\"1869\"}]},\"id\":\"1880\",\"type\":\"LegendItem\"},{\"attributes\":{\"source\":{\"id\":\"1747\"}},\"id\":\"1870\",\"type\":\"CDSView\"},{\"attributes\":{\"bottom\":{\"expr\":{\"id\":\"1803\"}},\"fill_color\":{\"value\":\"#8c564b\"},\"line_color\":{\"value\":\"#8c564b\"},\"line_width\":{\"value\":2},\"top\":{\"expr\":{\"id\":\"1804\"}},\"width\":{\"value\":0.8},\"x\":{\"field\":\"__x__values\"}},\"id\":\"1957\",\"type\":\"VBar\"},{\"attributes\":{\"data_source\":{\"id\":\"1747\"},\"glyph\":{\"id\":\"1942\"},\"hover_glyph\":null,\"muted_glyph\":null,\"name\":\"ROBBERY-RESIDENCE\",\"nonselection_glyph\":{\"id\":\"1943\"},\"view\":{\"id\":\"1945\"}},\"id\":\"1944\",\"type\":\"GlyphRenderer\"},{\"attributes\":{\"data\":{\"AGG ASSAULT\":[283,282,305,349,252,261,20,271],\"AUTO THEFT\":[367,416,500,464,404,371,232,414],\"BURGLARY-NONRES\":[77,91,84,89,95,109,123,81],\"BURGLARY-RESIDENCE\":[342,319,284,262,328,348,394,326],\"HOMICIDE\":[10,7,16,13,8,11,5,4],\"LARCENY-FROM VEHICLE\":[1264,1356,1458,1405,1294,1328,390,1291],\"LARCENY-NON VEHICLE\":[890,802,805,700,865,864,676,909],\"RAPE\":[21,21,29,36,26,20,23,33],\"ROBBERY-COMMERCIAL\":{\"__ndarray__\":\"AAAAAAAAPEAAAAAAAAA6QAAAAAAAADFAAAAAAAAAMEAAAAAAAAAxQAAAAAAAAD5AAAAAAAAA+H8AAAAAAAA3QA==\",\"dtype\":\"float64\",\"order\":\"little\",\"shape\":[8]},\"ROBBERY-PEDESTRIAN\":[129,150,183,187,141,168,1,167],\"ROBBERY-RESIDENCE\":{\"__ndarray__\":\"AAAAAAAAMkAAAAAAAAAzQAAAAAAAACRAAAAAAAAAO0AAAAAAAAAxQAAAAAAAADhAAAAAAAAA+H8AAAAAAAAwQA==\",\"dtype\":\"float64\",\"order\":\"little\",\"shape\":[8]},\"__x__values\":[0,1,2,3,4,5,6,7],\"__x__values_original\":[\"Fri\",\"Mon\",\"Sat\",\"Sun\",\"Thu\",\"Tue\",\"Unk\",\"Wed\"]},\"selected\":{\"id\":\"1816\"},\"selection_policy\":{\"id\":\"1817\"}},\"id\":\"1747\",\"type\":\"ColumnDataSource\"}],\"root_ids\":[\"1748\"]},\"title\":\"Bokeh Application\",\"version\":\"2.3.1\"}};\n  var render_items = [{\"docid\":\"dab60a6e-1423-4c07-bf51-3ad34fac9202\",\"root_ids\":[\"1748\"],\"roots\":{\"1748\":\"057db9f8-8a7a-4e37-965c-fc7d59cdb885\"}}];\n  root.Bokeh.embed.embed_items_notebook(docs_json, render_items);\n\n  }\n  if (root.Bokeh !== undefined) {\n    embed_document(root);\n  } else {\n    var attempts = 0;\n    var timer = setInterval(function(root) {\n      if (root.Bokeh !== undefined) {\n        clearInterval(timer);\n        embed_document(root);\n      } else {\n        attempts++;\n        if (attempts > 100) {\n          clearInterval(timer);\n          console.log(\"Bokeh: ERROR: Unable to run BokehJS code because BokehJS library is missing\");\n        }\n      }\n    }, 10, root)\n  }\n})(window);",
      "application/vnd.bokehjs_exec.v0+json": ""
     },
     "metadata": {
      "application/vnd.bokehjs_exec.v0+json": {
       "id": "1748"
      }
     },
     "output_type": "display_data"
    }
   ],
   "source": [
    "dayAndFelonyDF = extractDataService.getAllCrimesCountGroupByDayAndFelony()#x = df.sort_values('avg_day').value_counts(subset=['avg_day', 'crime_type'])\n",
    "dayAndFelonyFigure = dayAndFelonyDF.plot_bokeh(\n",
    "    title=\"Crimes frequency per day\",\n",
    "    figsize=(800, 450),\n",
    "    kind=\"bar\",\n",
    "    ylabel=\"Frequency\",\n",
    "    xlabel=\"Day\",\n",
    "    toolbar_location=None,\n",
    "    zooming=True,\n",
    "    panning=False,\n",
    "    stacked=True,\n",
    "    legend=None\n",
    ")\n",
    "exportService.addElementToExport(ResultUnit(dayAndFelonyFigure, \"day_and_felony.html\", ResultType.BOKEH_PLOT))"
   ],
   "metadata": {
    "collapsed": false,
    "pycharm": {
     "name": "#%%\n"
    }
   }
  },
  {
   "cell_type": "markdown",
   "source": [
    "Top 50 Neighborhood with most crimes frequencies"
   ],
   "metadata": {
    "collapsed": false
   }
  },
  {
   "cell_type": "code",
   "execution_count": 9,
   "outputs": [
    {
     "data": {
      "text/html": "\n\n\n\n\n\n  <div class=\"bk-root\" id=\"1ad6c5c0-d7f8-47bb-832d-40c6868a70ef\" data-root-id=\"2116\"></div>\n"
     },
     "metadata": {},
     "output_type": "display_data"
    },
    {
     "data": {
      "application/javascript": "(function(root) {\n  function embed_document(root) {\n    \n  var docs_json = {\"bfb38449-599c-467d-8358-1e639c1a43a1\":{\"defs\":[],\"roots\":{\"references\":[{\"attributes\":{\"below\":[{\"id\":\"2127\"}],\"center\":[{\"id\":\"2130\"},{\"id\":\"2134\"},{\"id\":\"2166\"}],\"height\":450,\"left\":[{\"id\":\"2131\"}],\"output_backend\":\"webgl\",\"renderers\":[{\"id\":\"2155\"}],\"sizing_mode\":\"fixed\",\"title\":{\"id\":\"2117\"},\"toolbar\":{\"id\":\"2142\"},\"toolbar_location\":null,\"width\":800,\"x_range\":{\"id\":\"2119\"},\"x_scale\":{\"id\":\"2123\"},\"y_range\":{\"id\":\"2121\"},\"y_scale\":{\"id\":\"2125\"}},\"id\":\"2116\",\"subtype\":\"Figure\",\"type\":\"Plot\"},{\"attributes\":{\"data\":{\"Frequency\":[167,169,169,170,171,172,184,192,205,206,207,208,211,213,215,217,218,222,244,244,251,259,265,268,273,285,299,309,310,311,317,330,334,351,361,362,372,379,422,428,429,445,478,507,566,585,694,1174,1401,1817],\"__x__values\":[0,1,2,3,4,5,6,7,8,9,10,11,12,13,14,15,16,17,18,19,20,21,22,23,24,25,26,27,28,29,30,31,32,33,34,35,36,37,38,39,40,41,42,43,44,45,46,47,48,49],\"__x__values_original\":[\"Peoplestown\",\"South River Gardens\",\"Hammond Park\",\"Adair Park\",\"Buckhead Forest\",\"Westview\",\"Poncey-Highland\",\"Buckhead Village\",\"Atlantic Station\",\"Lindridge/Martin Manor\",\"Southwest\",\"Adamsville\",\"Glenrose Heights\",\"Center Hill\",\"Campbellton Road\",\"Harland Terrace\",\"Venetian Hills\",\"Piedmont Heights\",\"Oakland City\",\"Virginia Highland\",\"Sweet Auburn\",\"Collier Heights\",\"Perkerson\",\"Blandtown\",\"Underwood Hills\",\"English Avenue\",\"Castleberry Hill\",\"East Atlanta\",\"Berkeley Park\",\"Pittsburgh\",\"Lakewood Heights\",\"Grove Park\",\"Morningside/Lenox Park\",\"Grant Park\",\"Inman Park\",\"Vine City\",\"Sylvan Hills\",\"Princeton Lakes\",\"Greenbriar\",\"Mechanicsville\",\"Home Park\",\"Edgewood\",\"North Buckhead\",\"Lenox\",\"West End\",\"Lindbergh/Morosgo\",\"Old Fourth Ward\",\"\",\"Midtown\",\"Downtown\"]},\"selected\":{\"id\":\"2163\"},\"selection_policy\":{\"id\":\"2164\"}},\"id\":\"2115\",\"type\":\"ColumnDataSource\"},{\"attributes\":{\"fill_color\":{\"value\":\"indianred\"},\"height\":{\"value\":0.7},\"line_color\":{\"value\":\"indianred\"},\"line_width\":{\"value\":2},\"right\":{\"field\":\"Frequency\"},\"y\":{\"field\":\"__x__values\",\"transform\":{\"id\":\"2151\"}}},\"id\":\"2153\",\"type\":\"HBar\"},{\"attributes\":{},\"id\":\"2135\",\"type\":\"PanTool\"},{\"attributes\":{\"axis_label\":\"Neighborhood\",\"formatter\":{\"id\":\"2149\"},\"major_label_policy\":{\"id\":\"2158\"},\"ticker\":{\"id\":\"2170\"}},\"id\":\"2131\",\"type\":\"LinearAxis\"},{\"attributes\":{\"ticks\":[0,1,2,3,4,5,6,7,8,9,10,11,12,13,14,15,16,17,18,19,20,21,22,23,24,25,26,27,28,29,30,31,32,33,34,35,36,37,38,39,40,41,42,43,44,45,46,47,48,49]},\"id\":\"2170\",\"type\":\"FixedTicker\"},{\"attributes\":{},\"id\":\"2158\",\"type\":\"AllLabels\"},{\"attributes\":{\"range\":{\"id\":\"2121\"}},\"id\":\"2151\",\"type\":\"Dodge\"},{\"attributes\":{\"click_policy\":\"hide\",\"items\":[{\"id\":\"2167\"}],\"visible\":false},\"id\":\"2166\",\"type\":\"Legend\"},{\"attributes\":{},\"id\":\"2125\",\"type\":\"LinearScale\"},{\"attributes\":{\"fill_alpha\":{\"value\":0.1},\"fill_color\":{\"value\":\"indianred\"},\"height\":{\"value\":0.7},\"line_alpha\":{\"value\":0.1},\"line_color\":{\"value\":\"indianred\"},\"line_width\":{\"value\":2},\"right\":{\"field\":\"Frequency\"},\"y\":{\"field\":\"__x__values\",\"transform\":{\"id\":\"2151\"}}},\"id\":\"2154\",\"type\":\"HBar\"},{\"attributes\":{\"axis_label\":\"Frequency\",\"formatter\":{\"id\":\"2161\"},\"major_label_policy\":{\"id\":\"2160\"},\"ticker\":{\"id\":\"2128\"}},\"id\":\"2127\",\"type\":\"LinearAxis\"},{\"attributes\":{},\"id\":\"2138\",\"type\":\"SaveTool\"},{\"attributes\":{\"source\":{\"id\":\"2115\"}},\"id\":\"2156\",\"type\":\"CDSView\"},{\"attributes\":{},\"id\":\"2139\",\"type\":\"ResetTool\"},{\"attributes\":{},\"id\":\"2160\",\"type\":\"AllLabels\"},{\"attributes\":{\"data_source\":{\"id\":\"2115\"},\"glyph\":{\"id\":\"2153\"},\"hover_glyph\":null,\"muted_glyph\":null,\"nonselection_glyph\":{\"id\":\"2154\"},\"view\":{\"id\":\"2156\"}},\"id\":\"2155\",\"type\":\"GlyphRenderer\"},{\"attributes\":{\"text\":\"Top 50 Neighborhood with most crimes frequencies\"},\"id\":\"2117\",\"type\":\"Title\"},{\"attributes\":{},\"id\":\"2161\",\"type\":\"BasicTickFormatter\"},{\"attributes\":{},\"id\":\"2163\",\"type\":\"Selection\"},{\"attributes\":{\"label\":{\"value\":\" Frequency\"},\"renderers\":[{\"id\":\"2155\"}]},\"id\":\"2167\",\"type\":\"LegendItem\"},{\"attributes\":{},\"id\":\"2123\",\"type\":\"LinearScale\"},{\"attributes\":{},\"id\":\"2140\",\"type\":\"HelpTool\"},{\"attributes\":{},\"id\":\"2164\",\"type\":\"UnionRenderers\"},{\"attributes\":{\"bottom_units\":\"screen\",\"fill_alpha\":0.5,\"fill_color\":\"lightgrey\",\"left_units\":\"screen\",\"level\":\"overlay\",\"line_alpha\":1.0,\"line_color\":\"black\",\"line_dash\":[4,4],\"line_width\":2,\"right_units\":\"screen\",\"syncable\":false,\"top_units\":\"screen\"},\"id\":\"2141\",\"type\":\"BoxAnnotation\"},{\"attributes\":{\"code\":\"\\n                                    var labels = {0: 'Peoplestown', 1: 'South River Gardens', 2: 'Hammond Park', 3: 'Adair Park', 4: 'Buckhead Forest', 5: 'Westview', 6: 'Poncey-Highland', 7: 'Buckhead Village', 8: 'Atlantic Station', 9: 'Lindridge/Martin Manor', 10: 'Southwest', 11: 'Adamsville', 12: 'Glenrose Heights', 13: 'Center Hill', 14: 'Campbellton Road', 15: 'Harland Terrace', 16: 'Venetian Hills', 17: 'Piedmont Heights', 18: 'Oakland City', 19: 'Virginia Highland', 20: 'Sweet Auburn', 21: 'Collier Heights', 22: 'Perkerson', 23: 'Blandtown', 24: 'Underwood Hills', 25: 'English Avenue', 26: 'Castleberry Hill', 27: 'East Atlanta', 28: 'Berkeley Park', 29: 'Pittsburgh', 30: 'Lakewood Heights', 31: 'Grove Park', 32: 'Morningside/Lenox Park', 33: 'Grant Park', 34: 'Inman Park', 35: 'Vine City', 36: 'Sylvan Hills', 37: 'Princeton Lakes', 38: 'Greenbriar', 39: 'Mechanicsville', 40: 'Home Park', 41: 'Edgewood', 42: 'North Buckhead', 43: 'Lenox', 44: 'West End', 45: 'Lindbergh/Morosgo', 46: 'Old Fourth Ward', 47: '', 48: 'Midtown', 49: 'Downtown'};\\n                                    return labels[tick];\\n                                    \"},\"id\":\"2149\",\"type\":\"FuncTickFormatter\"},{\"attributes\":{\"overlay\":{\"id\":\"2141\"}},\"id\":\"2137\",\"type\":\"BoxZoomTool\"},{\"attributes\":{\"axis\":{\"id\":\"2131\"},\"dimension\":1,\"ticker\":null},\"id\":\"2134\",\"type\":\"Grid\"},{\"attributes\":{},\"id\":\"2136\",\"type\":\"WheelZoomTool\"},{\"attributes\":{\"callback\":null,\"mode\":\"hline\",\"renderers\":[{\"id\":\"2155\"}],\"tooltips\":[[\"Neighborhood\",\"@__x__values_original\"],[\"Frequency\",\"@{Frequency}\"]]},\"id\":\"2168\",\"type\":\"HoverTool\"},{\"attributes\":{\"axis\":{\"id\":\"2127\"},\"ticker\":null},\"id\":\"2130\",\"type\":\"Grid\"},{\"attributes\":{},\"id\":\"2121\",\"type\":\"DataRange1d\"},{\"attributes\":{\"active_drag\":null,\"active_multi\":null,\"active_scroll\":null,\"tools\":[{\"id\":\"2135\"},{\"id\":\"2136\"},{\"id\":\"2137\"},{\"id\":\"2138\"},{\"id\":\"2139\"},{\"id\":\"2140\"},{\"id\":\"2168\"}]},\"id\":\"2142\",\"type\":\"Toolbar\"},{\"attributes\":{},\"id\":\"2119\",\"type\":\"DataRange1d\"},{\"attributes\":{},\"id\":\"2128\",\"type\":\"BasicTicker\"}],\"root_ids\":[\"2116\"]},\"title\":\"Bokeh Application\",\"version\":\"2.3.1\"}};\n  var render_items = [{\"docid\":\"bfb38449-599c-467d-8358-1e639c1a43a1\",\"root_ids\":[\"2116\"],\"roots\":{\"2116\":\"1ad6c5c0-d7f8-47bb-832d-40c6868a70ef\"}}];\n  root.Bokeh.embed.embed_items_notebook(docs_json, render_items);\n\n  }\n  if (root.Bokeh !== undefined) {\n    embed_document(root);\n  } else {\n    var attempts = 0;\n    var timer = setInterval(function(root) {\n      if (root.Bokeh !== undefined) {\n        clearInterval(timer);\n        embed_document(root);\n      } else {\n        attempts++;\n        if (attempts > 100) {\n          clearInterval(timer);\n          console.log(\"Bokeh: ERROR: Unable to run BokehJS code because BokehJS library is missing\");\n        }\n      }\n    }, 10, root)\n  }\n})(window);",
      "application/vnd.bokehjs_exec.v0+json": ""
     },
     "metadata": {
      "application/vnd.bokehjs_exec.v0+json": {
       "id": "2116"
      }
     },
     "output_type": "display_data"
    }
   ],
   "source": [
    "neighborhoodMostCriminalDF = extractDataService.getAllTop50NeighborhoodWithMostCrimesCountDataframe()\n",
    "neighborhoodMostCriminalFigure = neighborhoodMostCriminalDF.plot_bokeh(\n",
    "    title=\"Top 50 Neighborhood with most crimes frequencies\",\n",
    "    figsize=(800, 450),\n",
    "    kind=\"barh\",\n",
    "    color=\"indianred\",\n",
    "    x=\"neighborhood\",\n",
    "    ylabel=\"Neighborhood\",\n",
    "    xlabel=\"Frequency\",\n",
    "    toolbar_location=None,\n",
    "    zooming=False,\n",
    "    panning=False,\n",
    "    legend=None\n",
    ")\n",
    "exportService.addElementToExport(ResultUnit(neighborhoodMostCriminalFigure, \"neighborhood_most_criminal.html\", ResultType.BOKEH_PLOT))"
   ],
   "metadata": {
    "collapsed": false,
    "pycharm": {
     "name": "#%%\n"
    }
   }
  },
  {
   "cell_type": "markdown",
   "source": [
    "Top 50 Neighborhood with less crimes frequencies"
   ],
   "metadata": {
    "collapsed": false
   }
  },
  {
   "cell_type": "code",
   "execution_count": 10,
   "outputs": [
    {
     "data": {
      "text/html": "\n\n\n\n\n\n  <div class=\"bk-root\" id=\"c066c559-c732-4ca6-9cdd-6fabd2b54f36\" data-root-id=\"2322\"></div>\n"
     },
     "metadata": {},
     "output_type": "display_data"
    },
    {
     "data": {
      "application/javascript": "(function(root) {\n  function embed_document(root) {\n    \n  var docs_json = {\"502f0087-b1f2-4cf0-b927-e23ad3907ba8\":{\"defs\":[],\"roots\":{\"references\":[{\"attributes\":{\"below\":[{\"id\":\"2333\"}],\"center\":[{\"id\":\"2336\"},{\"id\":\"2340\"},{\"id\":\"2372\"}],\"height\":450,\"left\":[{\"id\":\"2337\"}],\"output_backend\":\"webgl\",\"renderers\":[{\"id\":\"2361\"}],\"sizing_mode\":\"fixed\",\"title\":{\"id\":\"2323\"},\"toolbar\":{\"id\":\"2348\"},\"toolbar_location\":null,\"width\":800,\"x_range\":{\"id\":\"2325\"},\"x_scale\":{\"id\":\"2329\"},\"y_range\":{\"id\":\"2327\"},\"y_scale\":{\"id\":\"2331\"}},\"id\":\"2322\",\"subtype\":\"Figure\",\"type\":\"Plot\"},{\"attributes\":{\"axis\":{\"id\":\"2333\"},\"ticker\":null},\"id\":\"2336\",\"type\":\"Grid\"},{\"attributes\":{\"source\":{\"id\":\"2321\"}},\"id\":\"2362\",\"type\":\"CDSView\"},{\"attributes\":{\"range\":{\"id\":\"2327\"}},\"id\":\"2357\",\"type\":\"Dodge\"},{\"attributes\":{\"code\":\"\\n                                    var labels = {0: 'Audobon Forest West', 1: 'Arden/Habersham', 2: 'Wyngate', 3: 'Oakcliff', 4: 'Cascade Green', 5: 'Whitewater Creek', 6: 'Fairburn Road/Wisteria Lane', 7: 'Green Forest Acres', 8: 'Fernleaf', 9: 'Wesley Battle', 10: 'Westminster/Milmar', 11: 'Fairway Acres', 12: 'Boulder Park', 13: 'Castlewood', 14: 'Margaret Mitchell', 15: 'Chalet Woods', 16: 'Bakers Ferry', 17: 'Laurens Valley', 18: 'Atkins Park', 19: 'Hanover West', 20: 'Sherwood Forest', 21: 'Green Acres Valley', 22: 'Colonial Homes', 23: 'Woodfield', 24: 'Harvel Homes Community', 25: 'Tampa Park', 26: 'Pomona Park', 27: 'East Ardley Road', 28: 'Wildwood Forest', 29: 'Pleasant Hill', 30: 'Butner/Tell', 31: 'Niskey Lake', 32: 'Westover Plantation', 33: 'Huntington', 34: 'Mellwood', 35: 'Horseshoe Community', 36: 'Collier Hills North', 37: 'Fairburn Tell', 38: 'Fort McPherson', 39: 'Georgia Tech', 40: 'Memorial Park', 41: 'Ben Hill Forest', 42: 'Rue Royal', 43: 'Kingswood', 44: 'Niskey Cove', 45: 'Old Fairburn Village', 46: 'Just Us', 47: 'Chattahoochee', 48: 'Mt. Paran Parkway', 49: 'Lake Estates'};\\n                                    return labels[tick];\\n                                    \"},\"id\":\"2355\",\"type\":\"FuncTickFormatter\"},{\"attributes\":{\"active_drag\":null,\"active_multi\":null,\"active_scroll\":null,\"tools\":[{\"id\":\"2341\"},{\"id\":\"2342\"},{\"id\":\"2343\"},{\"id\":\"2344\"},{\"id\":\"2345\"},{\"id\":\"2346\"},{\"id\":\"2374\"}]},\"id\":\"2348\",\"type\":\"Toolbar\"},{\"attributes\":{\"text\":\"Top 50 Neighborhood with less crimes frequencies\"},\"id\":\"2323\",\"type\":\"Title\"},{\"attributes\":{},\"id\":\"2341\",\"type\":\"PanTool\"},{\"attributes\":{\"fill_color\":{\"value\":\"indianred\"},\"height\":{\"value\":0.7},\"line_color\":{\"value\":\"indianred\"},\"line_width\":{\"value\":2},\"right\":{\"field\":\"Frequency\"},\"y\":{\"field\":\"__x__values\",\"transform\":{\"id\":\"2357\"}}},\"id\":\"2359\",\"type\":\"HBar\"},{\"attributes\":{},\"id\":\"2346\",\"type\":\"HelpTool\"},{\"attributes\":{},\"id\":\"2345\",\"type\":\"ResetTool\"},{\"attributes\":{},\"id\":\"2344\",\"type\":\"SaveTool\"},{\"attributes\":{},\"id\":\"2331\",\"type\":\"LinearScale\"},{\"attributes\":{},\"id\":\"2342\",\"type\":\"WheelZoomTool\"},{\"attributes\":{},\"id\":\"2364\",\"type\":\"AllLabels\"},{\"attributes\":{\"ticks\":[0,1,2,3,4,5,6,7,8,9,10,11,12,13,14,15,16,17,18,19,20,21,22,23,24,25,26,27,28,29,30,31,32,33,34,35,36,37,38,39,40,41,42,43,44,45,46,47,48,49]},\"id\":\"2376\",\"type\":\"FixedTicker\"},{\"attributes\":{\"click_policy\":\"hide\",\"items\":[{\"id\":\"2373\"}],\"visible\":false},\"id\":\"2372\",\"type\":\"Legend\"},{\"attributes\":{},\"id\":\"2325\",\"type\":\"DataRange1d\"},{\"attributes\":{\"fill_alpha\":{\"value\":0.1},\"fill_color\":{\"value\":\"indianred\"},\"height\":{\"value\":0.7},\"line_alpha\":{\"value\":0.1},\"line_color\":{\"value\":\"indianred\"},\"line_width\":{\"value\":2},\"right\":{\"field\":\"Frequency\"},\"y\":{\"field\":\"__x__values\",\"transform\":{\"id\":\"2357\"}}},\"id\":\"2360\",\"type\":\"HBar\"},{\"attributes\":{},\"id\":\"2366\",\"type\":\"AllLabels\"},{\"attributes\":{\"data\":{\"Frequency\":[7,7,7,7,7,7,7,7,6,6,6,6,6,6,6,5,5,5,5,5,5,5,5,5,4,4,4,4,4,4,4,4,3,3,2,2,2,2,2,2,2,2,2,2,2,1,1,1,1,1],\"__x__values\":[0,1,2,3,4,5,6,7,8,9,10,11,12,13,14,15,16,17,18,19,20,21,22,23,24,25,26,27,28,29,30,31,32,33,34,35,36,37,38,39,40,41,42,43,44,45,46,47,48,49],\"__x__values_original\":[\"Audobon Forest West\",\"Arden/Habersham\",\"Wyngate\",\"Oakcliff\",\"Cascade Green\",\"Whitewater Creek\",\"Fairburn Road/Wisteria Lane\",\"Green Forest Acres\",\"Fernleaf\",\"Wesley Battle\",\"Westminster/Milmar\",\"Fairway Acres\",\"Boulder Park\",\"Castlewood\",\"Margaret Mitchell\",\"Chalet Woods\",\"Bakers Ferry\",\"Laurens Valley\",\"Atkins Park\",\"Hanover West\",\"Sherwood Forest\",\"Green Acres Valley\",\"Colonial Homes\",\"Woodfield\",\"Harvel Homes Community\",\"Tampa Park\",\"Pomona Park\",\"East Ardley Road\",\"Wildwood Forest\",\"Pleasant Hill\",\"Butner/Tell\",\"Niskey Lake\",\"Westover Plantation\",\"Huntington\",\"Mellwood\",\"Horseshoe Community\",\"Collier Hills North\",\"Fairburn Tell\",\"Fort McPherson\",\"Georgia Tech\",\"Memorial Park\",\"Ben Hill Forest\",\"Rue Royal\",\"Kingswood\",\"Niskey Cove\",\"Old Fairburn Village\",\"Just Us\",\"Chattahoochee\",\"Mt. Paran Parkway\",\"Lake Estates\"]},\"selected\":{\"id\":\"2369\"},\"selection_policy\":{\"id\":\"2370\"}},\"id\":\"2321\",\"type\":\"ColumnDataSource\"},{\"attributes\":{\"data_source\":{\"id\":\"2321\"},\"glyph\":{\"id\":\"2359\"},\"hover_glyph\":null,\"muted_glyph\":null,\"nonselection_glyph\":{\"id\":\"2360\"},\"view\":{\"id\":\"2362\"}},\"id\":\"2361\",\"type\":\"GlyphRenderer\"},{\"attributes\":{},\"id\":\"2367\",\"type\":\"BasicTickFormatter\"},{\"attributes\":{\"axis_label\":\"Neighborhood\",\"formatter\":{\"id\":\"2355\"},\"major_label_policy\":{\"id\":\"2364\"},\"ticker\":{\"id\":\"2376\"}},\"id\":\"2337\",\"type\":\"LinearAxis\"},{\"attributes\":{\"axis\":{\"id\":\"2337\"},\"dimension\":1,\"ticker\":null},\"id\":\"2340\",\"type\":\"Grid\"},{\"attributes\":{\"label\":{\"value\":\" Frequency\"},\"renderers\":[{\"id\":\"2361\"}]},\"id\":\"2373\",\"type\":\"LegendItem\"},{\"attributes\":{},\"id\":\"2369\",\"type\":\"Selection\"},{\"attributes\":{},\"id\":\"2370\",\"type\":\"UnionRenderers\"},{\"attributes\":{\"bottom_units\":\"screen\",\"fill_alpha\":0.5,\"fill_color\":\"lightgrey\",\"left_units\":\"screen\",\"level\":\"overlay\",\"line_alpha\":1.0,\"line_color\":\"black\",\"line_dash\":[4,4],\"line_width\":2,\"right_units\":\"screen\",\"syncable\":false,\"top_units\":\"screen\"},\"id\":\"2347\",\"type\":\"BoxAnnotation\"},{\"attributes\":{\"callback\":null,\"mode\":\"hline\",\"renderers\":[{\"id\":\"2361\"}],\"tooltips\":[[\"Neighborhood\",\"@__x__values_original\"],[\"Frequency\",\"@{Frequency}\"]]},\"id\":\"2374\",\"type\":\"HoverTool\"},{\"attributes\":{},\"id\":\"2327\",\"type\":\"DataRange1d\"},{\"attributes\":{\"axis_label\":\"Frequency\",\"formatter\":{\"id\":\"2367\"},\"major_label_policy\":{\"id\":\"2366\"},\"ticker\":{\"id\":\"2334\"}},\"id\":\"2333\",\"type\":\"LinearAxis\"},{\"attributes\":{},\"id\":\"2334\",\"type\":\"BasicTicker\"},{\"attributes\":{},\"id\":\"2329\",\"type\":\"LinearScale\"},{\"attributes\":{\"overlay\":{\"id\":\"2347\"}},\"id\":\"2343\",\"type\":\"BoxZoomTool\"}],\"root_ids\":[\"2322\"]},\"title\":\"Bokeh Application\",\"version\":\"2.3.1\"}};\n  var render_items = [{\"docid\":\"502f0087-b1f2-4cf0-b927-e23ad3907ba8\",\"root_ids\":[\"2322\"],\"roots\":{\"2322\":\"c066c559-c732-4ca6-9cdd-6fabd2b54f36\"}}];\n  root.Bokeh.embed.embed_items_notebook(docs_json, render_items);\n\n  }\n  if (root.Bokeh !== undefined) {\n    embed_document(root);\n  } else {\n    var attempts = 0;\n    var timer = setInterval(function(root) {\n      if (root.Bokeh !== undefined) {\n        clearInterval(timer);\n        embed_document(root);\n      } else {\n        attempts++;\n        if (attempts > 100) {\n          clearInterval(timer);\n          console.log(\"Bokeh: ERROR: Unable to run BokehJS code because BokehJS library is missing\");\n        }\n      }\n    }, 10, root)\n  }\n})(window);",
      "application/vnd.bokehjs_exec.v0+json": ""
     },
     "metadata": {
      "application/vnd.bokehjs_exec.v0+json": {
       "id": "2322"
      }
     },
     "output_type": "display_data"
    }
   ],
   "source": [
    "neighborhoodLessCriminalDF = extractDataService.getAllTop50NeighborhoodWithLessCrimesCountDataframe()\n",
    "neighborhoodLessCriminalFigure = neighborhoodLessCriminalDF.plot_bokeh(\n",
    "    title=\"Top 50 Neighborhood with less crimes frequencies\",\n",
    "    figsize=(800, 450),\n",
    "    kind=\"barh\",\n",
    "    color=\"indianred\",\n",
    "    x=\"neighborhood\",\n",
    "    ylabel=\"Neighborhood\",\n",
    "    xlabel=\"Frequency\",\n",
    "    toolbar_location=None,\n",
    "    zooming=False,\n",
    "    panning=False,\n",
    "    legend=None\n",
    ")\n",
    "\n",
    "exportService.addElementToExport(ResultUnit(neighborhoodLessCriminalFigure, \"neighborhood_less_criminal.html\", ResultType.BOKEH_PLOT))"
   ],
   "metadata": {
    "collapsed": false,
    "pycharm": {
     "name": "#%%\n"
    }
   }
  },
  {
   "cell_type": "markdown",
   "metadata": {},
   "source": [
    "Init GIS Services and all repository"
   ]
  },
  {
   "cell_type": "code",
   "execution_count": 11,
   "metadata": {},
   "outputs": [],
   "source": [
    "from arcgis.gis import GIS\n",
    "from service.arc_gis import ArcGISService, ArcGISPointStyle\n",
    "\n",
    "gisRepository = GIS()\n",
    "gisService = ArcGISService(gisRepository, use_cache=True)"
   ]
  },
  {
   "cell_type": "markdown",
   "metadata": {},
   "source": [
    "Retrieve data by Homicide and display in map"
   ]
  },
  {
   "cell_type": "code",
   "execution_count": 12,
   "metadata": {
    "pycharm": {
     "name": "#%%\n"
    }
   },
   "outputs": [
    {
     "data": {
      "text/plain": "MapView(layout=Layout(height='400px', width='100%'))",
      "application/vnd.jupyter.widget-view+json": {
       "version_major": 2,
       "version_minor": 0,
       "model_id": "73006b1476254f34b0c74cddd86cb57f"
      }
     },
     "metadata": {},
     "output_type": "display_data"
    },
    {
     "data": {
      "text/plain": "<IPython.core.display.HTML object>",
      "text/html": "<div class=\"map-static-img-preview-e6ee3604-21ab-465d-85dc-84b4ffab860f\"><img src=\"\"></img></div>"
     },
     "metadata": {},
     "output_type": "display_data"
    },
    {
     "data": {
      "text/plain": "<IPython.core.display.HTML object>",
      "text/html": "<div class=\"map-html-embed-preview-e6ee3604-21ab-465d-85dc-84b4ffab860f\"></div>"
     },
     "metadata": {},
     "output_type": "display_data"
    }
   ],
   "source": [
    "homicideDF = extractDataService.getAllCrimeByFelony(\"HOMICIDE\")\n",
    "homicideMap = gisService.getCrimesMapByFelonyType(homicideDF, ArcGISPointStyle.RED_POINT)\n",
    "exportService.addElementToExport(ResultUnit(homicideMap, \"homicide_map.html\", ResultType.ARC_GIS_MAP))\n",
    "homicideMap"
   ]
  },
  {
   "cell_type": "markdown",
   "source": [
    "Retrieve data by Homicide and display in map"
   ],
   "metadata": {
    "collapsed": false
   }
  },
  {
   "cell_type": "code",
   "execution_count": 13,
   "outputs": [
    {
     "data": {
      "text/plain": "MapView(layout=Layout(height='400px', width='100%'))",
      "application/vnd.jupyter.widget-view+json": {
       "version_major": 2,
       "version_minor": 0,
       "model_id": "0220d493697a439c8c673dc36e9ab3da"
      }
     },
     "metadata": {},
     "output_type": "display_data"
    },
    {
     "data": {
      "text/plain": "<IPython.core.display.HTML object>",
      "text/html": "<div class=\"map-static-img-preview-ec6846c7-35ef-4bc9-83e6-35f6d021c6e9\"><img src=\"\"></img></div>"
     },
     "metadata": {},
     "output_type": "display_data"
    },
    {
     "data": {
      "text/plain": "<IPython.core.display.HTML object>",
      "text/html": "<div class=\"map-html-embed-preview-ec6846c7-35ef-4bc9-83e6-35f6d021c6e9\"></div>"
     },
     "metadata": {},
     "output_type": "display_data"
    }
   ],
   "source": [
    "assaultDF = extractDataService.getAllCrimeByFelony(\"AGG ASSAULT\")\n",
    "assaultMap = gisService.getCrimesMapByFelonyType(assaultDF, ArcGISPointStyle.PURPLE_POINT)\n",
    "exportService.addElementToExport(ResultUnit(assaultMap, \"assault_map.html\", ResultType.ARC_GIS_MAP))\n",
    "assaultMap"
   ],
   "metadata": {
    "collapsed": false,
    "pycharm": {
     "name": "#%%\n"
    }
   }
  },
  {
   "cell_type": "markdown",
   "source": [
    "Retrieve data by Homicide and display in map"
   ],
   "metadata": {
    "collapsed": false
   }
  },
  {
   "cell_type": "code",
   "execution_count": 14,
   "outputs": [
    {
     "data": {
      "text/plain": "MapView(layout=Layout(height='400px', width='100%'))",
      "application/vnd.jupyter.widget-view+json": {
       "version_major": 2,
       "version_minor": 0,
       "model_id": "e6dfa0f70cf74b7a9f699915a41aa71c"
      }
     },
     "metadata": {},
     "output_type": "display_data"
    },
    {
     "data": {
      "text/plain": "<IPython.core.display.HTML object>",
      "text/html": "<div class=\"map-static-img-preview-4db028ec-6d00-4981-af90-379d018e581b\"><img src=\"\"></img></div>"
     },
     "metadata": {},
     "output_type": "display_data"
    },
    {
     "data": {
      "text/plain": "<IPython.core.display.HTML object>",
      "text/html": "<div class=\"map-html-embed-preview-4db028ec-6d00-4981-af90-379d018e581b\"></div>"
     },
     "metadata": {},
     "output_type": "display_data"
    }
   ],
   "source": [
    "robberyResidenceDF = extractDataService.getAllCrimeByFelony(\"ROBBERY-RESIDENCE\")\n",
    "robberyResidenceMap = gisService.getCrimesMapByFelonyType(robberyResidenceDF, ArcGISPointStyle.GREEN_POINT)\n",
    "exportService.addElementToExport(ResultUnit(assaultMap, \"robbery_residence_map.html\", ResultType.ARC_GIS_MAP))\n",
    "robberyResidenceMap"
   ],
   "metadata": {
    "collapsed": false,
    "pycharm": {
     "name": "#%%\n"
    }
   }
  },
  {
   "cell_type": "markdown",
   "source": [
    "Save all the Maps and plots and reset bokeh output"
   ],
   "metadata": {
    "collapsed": false
   }
  },
  {
   "cell_type": "code",
   "execution_count": 15,
   "outputs": [
    {
     "data": {
      "text/html": "\n    <div class=\"bk-root\">\n        <a href=\"https://bokeh.org\" target=\"_blank\" class=\"bk-logo bk-logo-small bk-logo-notebook\"></a>\n        <span id=\"3386\">Loading BokehJS ...</span>\n    </div>"
     },
     "metadata": {},
     "output_type": "display_data"
    },
    {
     "data": {
      "application/javascript": "\n(function(root) {\n  function now() {\n    return new Date();\n  }\n\n  var force = true;\n\n  if (typeof root._bokeh_onload_callbacks === \"undefined\" || force === true) {\n    root._bokeh_onload_callbacks = [];\n    root._bokeh_is_loading = undefined;\n  }\n\n  var JS_MIME_TYPE = 'application/javascript';\n  var HTML_MIME_TYPE = 'text/html';\n  var EXEC_MIME_TYPE = 'application/vnd.bokehjs_exec.v0+json';\n  var CLASS_NAME = 'output_bokeh rendered_html';\n\n  /**\n   * Render data to the DOM node\n   */\n  function render(props, node) {\n    var script = document.createElement(\"script\");\n    node.appendChild(script);\n  }\n\n  /**\n   * Handle when an output is cleared or removed\n   */\n  function handleClearOutput(event, handle) {\n    var cell = handle.cell;\n\n    var id = cell.output_area._bokeh_element_id;\n    var server_id = cell.output_area._bokeh_server_id;\n    // Clean up Bokeh references\n    if (id != null && id in Bokeh.index) {\n      Bokeh.index[id].model.document.clear();\n      delete Bokeh.index[id];\n    }\n\n    if (server_id !== undefined) {\n      // Clean up Bokeh references\n      var cmd = \"from bokeh.io.state import curstate; print(curstate().uuid_to_server['\" + server_id + \"'].get_sessions()[0].document.roots[0]._id)\";\n      cell.notebook.kernel.execute(cmd, {\n        iopub: {\n          output: function(msg) {\n            var id = msg.content.text.trim();\n            if (id in Bokeh.index) {\n              Bokeh.index[id].model.document.clear();\n              delete Bokeh.index[id];\n            }\n          }\n        }\n      });\n      // Destroy server and session\n      var cmd = \"import bokeh.io.notebook as ion; ion.destroy_server('\" + server_id + \"')\";\n      cell.notebook.kernel.execute(cmd);\n    }\n  }\n\n  /**\n   * Handle when a new output is added\n   */\n  function handleAddOutput(event, handle) {\n    var output_area = handle.output_area;\n    var output = handle.output;\n\n    // limit handleAddOutput to display_data with EXEC_MIME_TYPE content only\n    if ((output.output_type != \"display_data\") || (!Object.prototype.hasOwnProperty.call(output.data, EXEC_MIME_TYPE))) {\n      return\n    }\n\n    var toinsert = output_area.element.find(\".\" + CLASS_NAME.split(' ')[0]);\n\n    if (output.metadata[EXEC_MIME_TYPE][\"id\"] !== undefined) {\n      toinsert[toinsert.length - 1].firstChild.textContent = output.data[JS_MIME_TYPE];\n      // store reference to embed id on output_area\n      output_area._bokeh_element_id = output.metadata[EXEC_MIME_TYPE][\"id\"];\n    }\n    if (output.metadata[EXEC_MIME_TYPE][\"server_id\"] !== undefined) {\n      var bk_div = document.createElement(\"div\");\n      bk_div.innerHTML = output.data[HTML_MIME_TYPE];\n      var script_attrs = bk_div.children[0].attributes;\n      for (var i = 0; i < script_attrs.length; i++) {\n        toinsert[toinsert.length - 1].firstChild.setAttribute(script_attrs[i].name, script_attrs[i].value);\n        toinsert[toinsert.length - 1].firstChild.textContent = bk_div.children[0].textContent\n      }\n      // store reference to server id on output_area\n      output_area._bokeh_server_id = output.metadata[EXEC_MIME_TYPE][\"server_id\"];\n    }\n  }\n\n  function register_renderer(events, OutputArea) {\n\n    function append_mime(data, metadata, element) {\n      // create a DOM node to render to\n      var toinsert = this.create_output_subarea(\n        metadata,\n        CLASS_NAME,\n        EXEC_MIME_TYPE\n      );\n      this.keyboard_manager.register_events(toinsert);\n      // Render to node\n      var props = {data: data, metadata: metadata[EXEC_MIME_TYPE]};\n      render(props, toinsert[toinsert.length - 1]);\n      element.append(toinsert);\n      return toinsert\n    }\n\n    /* Handle when an output is cleared or removed */\n    events.on('clear_output.CodeCell', handleClearOutput);\n    events.on('delete.Cell', handleClearOutput);\n\n    /* Handle when a new output is added */\n    events.on('output_added.OutputArea', handleAddOutput);\n\n    /**\n     * Register the mime type and append_mime function with output_area\n     */\n    OutputArea.prototype.register_mime_type(EXEC_MIME_TYPE, append_mime, {\n      /* Is output safe? */\n      safe: true,\n      /* Index of renderer in `output_area.display_order` */\n      index: 0\n    });\n  }\n\n  // register the mime type if in Jupyter Notebook environment and previously unregistered\n  if (root.Jupyter !== undefined) {\n    var events = require('base/js/events');\n    var OutputArea = require('notebook/js/outputarea').OutputArea;\n\n    if (OutputArea.prototype.mime_types().indexOf(EXEC_MIME_TYPE) == -1) {\n      register_renderer(events, OutputArea);\n    }\n  }\n\n  \n  if (typeof (root._bokeh_timeout) === \"undefined\" || force === true) {\n    root._bokeh_timeout = Date.now() + 5000;\n    root._bokeh_failed_load = false;\n  }\n\n  var NB_LOAD_WARNING = {'data': {'text/html':\n     \"<div style='background-color: #fdd'>\\n\"+\n     \"<p>\\n\"+\n     \"BokehJS does not appear to have successfully loaded. If loading BokehJS from CDN, this \\n\"+\n     \"may be due to a slow or bad network connection. Possible fixes:\\n\"+\n     \"</p>\\n\"+\n     \"<ul>\\n\"+\n     \"<li>re-rerun `output_notebook()` to attempt to load from CDN again, or</li>\\n\"+\n     \"<li>use INLINE resources instead, as so:</li>\\n\"+\n     \"</ul>\\n\"+\n     \"<code>\\n\"+\n     \"from bokeh.resources import INLINE\\n\"+\n     \"output_notebook(resources=INLINE)\\n\"+\n     \"</code>\\n\"+\n     \"</div>\"}};\n\n  function display_loaded() {\n    var el = document.getElementById(\"3386\");\n    if (el != null) {\n      el.textContent = \"BokehJS is loading...\";\n    }\n    if (root.Bokeh !== undefined) {\n      if (el != null) {\n        el.textContent = \"BokehJS \" + root.Bokeh.version + \" successfully loaded.\";\n      }\n    } else if (Date.now() < root._bokeh_timeout) {\n      setTimeout(display_loaded, 100)\n    }\n  }\n\n\n  function run_callbacks() {\n    try {\n      root._bokeh_onload_callbacks.forEach(function(callback) {\n        if (callback != null)\n          callback();\n      });\n    } finally {\n      delete root._bokeh_onload_callbacks\n    }\n    console.debug(\"Bokeh: all callbacks have finished\");\n  }\n\n  function load_libs(css_urls, js_urls, callback) {\n    if (css_urls == null) css_urls = [];\n    if (js_urls == null) js_urls = [];\n\n    root._bokeh_onload_callbacks.push(callback);\n    if (root._bokeh_is_loading > 0) {\n      console.debug(\"Bokeh: BokehJS is being loaded, scheduling callback at\", now());\n      return null;\n    }\n    if (js_urls == null || js_urls.length === 0) {\n      run_callbacks();\n      return null;\n    }\n    console.debug(\"Bokeh: BokehJS not loaded, scheduling load and callback at\", now());\n    root._bokeh_is_loading = css_urls.length + js_urls.length;\n\n    function on_load() {\n      root._bokeh_is_loading--;\n      if (root._bokeh_is_loading === 0) {\n        console.debug(\"Bokeh: all BokehJS libraries/stylesheets loaded\");\n        run_callbacks()\n      }\n    }\n\n    function on_error(url) {\n      console.error(\"failed to load \" + url);\n    }\n\n    for (let i = 0; i < css_urls.length; i++) {\n      const url = css_urls[i];\n      const element = document.createElement(\"link\");\n      element.onload = on_load;\n      element.onerror = on_error.bind(null, url);\n      element.rel = \"stylesheet\";\n      element.type = \"text/css\";\n      element.href = url;\n      console.debug(\"Bokeh: injecting link tag for BokehJS stylesheet: \", url);\n      document.body.appendChild(element);\n    }\n\n    const hashes = {\"https://cdn.bokeh.org/bokeh/release/bokeh-2.3.1.min.js\": \"YF85VygJKMVnHE+lLv2AM93Vbstr0yo2TbIu5v8se5Rq3UQAUmcuh4aaJwNlpKwa\", \"https://cdn.bokeh.org/bokeh/release/bokeh-widgets-2.3.1.min.js\": \"KKuas3gevv3PvrlkyCMzffFeaMq5we/a2QsP5AUoS3mJ0jmaCL7jirFJN3GoE/lM\", \"https://cdn.bokeh.org/bokeh/release/bokeh-tables-2.3.1.min.js\": \"MK/uFc3YT18pkvvXRl66tTHjP0/dxoSH2e/eiNMFIguKlun2+WVqaPTWmUy/zvh4\"};\n\n    for (let i = 0; i < js_urls.length; i++) {\n      const url = js_urls[i];\n      const element = document.createElement('script');\n      element.onload = on_load;\n      element.onerror = on_error.bind(null, url);\n      element.async = false;\n      element.src = url;\n      if (url in hashes) {\n        element.crossOrigin = \"anonymous\";\n        element.integrity = \"sha384-\" + hashes[url];\n      }\n      console.debug(\"Bokeh: injecting script tag for BokehJS library: \", url);\n      document.head.appendChild(element);\n    }\n  };\n\n  function inject_raw_css(css) {\n    const element = document.createElement(\"style\");\n    element.appendChild(document.createTextNode(css));\n    document.body.appendChild(element);\n  }\n\n  \n  var js_urls = [\"https://cdn.bokeh.org/bokeh/release/bokeh-2.3.1.min.js\", \"https://cdn.bokeh.org/bokeh/release/bokeh-widgets-2.3.1.min.js\", \"https://cdn.bokeh.org/bokeh/release/bokeh-tables-2.3.1.min.js\"];\n  var css_urls = [];\n  \n\n  var inline_js = [\n    function(Bokeh) {\n      Bokeh.set_log_level(\"info\");\n    },\n    function(Bokeh) {\n    \n    \n    }\n  ];\n\n  function run_inline_js() {\n    \n    if (root.Bokeh !== undefined || force === true) {\n      \n    for (var i = 0; i < inline_js.length; i++) {\n      inline_js[i].call(root, root.Bokeh);\n    }\n    if (force === true) {\n        display_loaded();\n      }} else if (Date.now() < root._bokeh_timeout) {\n      setTimeout(run_inline_js, 100);\n    } else if (!root._bokeh_failed_load) {\n      console.log(\"Bokeh: BokehJS failed to load within specified timeout.\");\n      root._bokeh_failed_load = true;\n    } else if (force !== true) {\n      var cell = $(document.getElementById(\"3386\")).parents('.cell').data().cell;\n      cell.output_area.append_execute_result(NB_LOAD_WARNING)\n    }\n\n  }\n\n  if (root._bokeh_is_loading === 0) {\n    console.debug(\"Bokeh: BokehJS loaded, going straight to plotting\");\n    run_inline_js();\n  } else {\n    load_libs(css_urls, js_urls, function() {\n      console.debug(\"Bokeh: BokehJS plotting callback run at\", now());\n      run_inline_js();\n    });\n  }\n}(window));",
      "application/vnd.bokehjs_load.v0+json": "\n(function(root) {\n  function now() {\n    return new Date();\n  }\n\n  var force = true;\n\n  if (typeof root._bokeh_onload_callbacks === \"undefined\" || force === true) {\n    root._bokeh_onload_callbacks = [];\n    root._bokeh_is_loading = undefined;\n  }\n\n  \n\n  \n  if (typeof (root._bokeh_timeout) === \"undefined\" || force === true) {\n    root._bokeh_timeout = Date.now() + 5000;\n    root._bokeh_failed_load = false;\n  }\n\n  var NB_LOAD_WARNING = {'data': {'text/html':\n     \"<div style='background-color: #fdd'>\\n\"+\n     \"<p>\\n\"+\n     \"BokehJS does not appear to have successfully loaded. If loading BokehJS from CDN, this \\n\"+\n     \"may be due to a slow or bad network connection. Possible fixes:\\n\"+\n     \"</p>\\n\"+\n     \"<ul>\\n\"+\n     \"<li>re-rerun `output_notebook()` to attempt to load from CDN again, or</li>\\n\"+\n     \"<li>use INLINE resources instead, as so:</li>\\n\"+\n     \"</ul>\\n\"+\n     \"<code>\\n\"+\n     \"from bokeh.resources import INLINE\\n\"+\n     \"output_notebook(resources=INLINE)\\n\"+\n     \"</code>\\n\"+\n     \"</div>\"}};\n\n  function display_loaded() {\n    var el = document.getElementById(\"3386\");\n    if (el != null) {\n      el.textContent = \"BokehJS is loading...\";\n    }\n    if (root.Bokeh !== undefined) {\n      if (el != null) {\n        el.textContent = \"BokehJS \" + root.Bokeh.version + \" successfully loaded.\";\n      }\n    } else if (Date.now() < root._bokeh_timeout) {\n      setTimeout(display_loaded, 100)\n    }\n  }\n\n\n  function run_callbacks() {\n    try {\n      root._bokeh_onload_callbacks.forEach(function(callback) {\n        if (callback != null)\n          callback();\n      });\n    } finally {\n      delete root._bokeh_onload_callbacks\n    }\n    console.debug(\"Bokeh: all callbacks have finished\");\n  }\n\n  function load_libs(css_urls, js_urls, callback) {\n    if (css_urls == null) css_urls = [];\n    if (js_urls == null) js_urls = [];\n\n    root._bokeh_onload_callbacks.push(callback);\n    if (root._bokeh_is_loading > 0) {\n      console.debug(\"Bokeh: BokehJS is being loaded, scheduling callback at\", now());\n      return null;\n    }\n    if (js_urls == null || js_urls.length === 0) {\n      run_callbacks();\n      return null;\n    }\n    console.debug(\"Bokeh: BokehJS not loaded, scheduling load and callback at\", now());\n    root._bokeh_is_loading = css_urls.length + js_urls.length;\n\n    function on_load() {\n      root._bokeh_is_loading--;\n      if (root._bokeh_is_loading === 0) {\n        console.debug(\"Bokeh: all BokehJS libraries/stylesheets loaded\");\n        run_callbacks()\n      }\n    }\n\n    function on_error(url) {\n      console.error(\"failed to load \" + url);\n    }\n\n    for (let i = 0; i < css_urls.length; i++) {\n      const url = css_urls[i];\n      const element = document.createElement(\"link\");\n      element.onload = on_load;\n      element.onerror = on_error.bind(null, url);\n      element.rel = \"stylesheet\";\n      element.type = \"text/css\";\n      element.href = url;\n      console.debug(\"Bokeh: injecting link tag for BokehJS stylesheet: \", url);\n      document.body.appendChild(element);\n    }\n\n    const hashes = {\"https://cdn.bokeh.org/bokeh/release/bokeh-2.3.1.min.js\": \"YF85VygJKMVnHE+lLv2AM93Vbstr0yo2TbIu5v8se5Rq3UQAUmcuh4aaJwNlpKwa\", \"https://cdn.bokeh.org/bokeh/release/bokeh-widgets-2.3.1.min.js\": \"KKuas3gevv3PvrlkyCMzffFeaMq5we/a2QsP5AUoS3mJ0jmaCL7jirFJN3GoE/lM\", \"https://cdn.bokeh.org/bokeh/release/bokeh-tables-2.3.1.min.js\": \"MK/uFc3YT18pkvvXRl66tTHjP0/dxoSH2e/eiNMFIguKlun2+WVqaPTWmUy/zvh4\"};\n\n    for (let i = 0; i < js_urls.length; i++) {\n      const url = js_urls[i];\n      const element = document.createElement('script');\n      element.onload = on_load;\n      element.onerror = on_error.bind(null, url);\n      element.async = false;\n      element.src = url;\n      if (url in hashes) {\n        element.crossOrigin = \"anonymous\";\n        element.integrity = \"sha384-\" + hashes[url];\n      }\n      console.debug(\"Bokeh: injecting script tag for BokehJS library: \", url);\n      document.head.appendChild(element);\n    }\n  };\n\n  function inject_raw_css(css) {\n    const element = document.createElement(\"style\");\n    element.appendChild(document.createTextNode(css));\n    document.body.appendChild(element);\n  }\n\n  \n  var js_urls = [\"https://cdn.bokeh.org/bokeh/release/bokeh-2.3.1.min.js\", \"https://cdn.bokeh.org/bokeh/release/bokeh-widgets-2.3.1.min.js\", \"https://cdn.bokeh.org/bokeh/release/bokeh-tables-2.3.1.min.js\"];\n  var css_urls = [];\n  \n\n  var inline_js = [\n    function(Bokeh) {\n      Bokeh.set_log_level(\"info\");\n    },\n    function(Bokeh) {\n    \n    \n    }\n  ];\n\n  function run_inline_js() {\n    \n    if (root.Bokeh !== undefined || force === true) {\n      \n    for (var i = 0; i < inline_js.length; i++) {\n      inline_js[i].call(root, root.Bokeh);\n    }\n    if (force === true) {\n        display_loaded();\n      }} else if (Date.now() < root._bokeh_timeout) {\n      setTimeout(run_inline_js, 100);\n    } else if (!root._bokeh_failed_load) {\n      console.log(\"Bokeh: BokehJS failed to load within specified timeout.\");\n      root._bokeh_failed_load = true;\n    } else if (force !== true) {\n      var cell = $(document.getElementById(\"3386\")).parents('.cell').data().cell;\n      cell.output_area.append_execute_result(NB_LOAD_WARNING)\n    }\n\n  }\n\n  if (root._bokeh_is_loading === 0) {\n    console.debug(\"Bokeh: BokehJS loaded, going straight to plotting\");\n    run_inline_js();\n  } else {\n    load_libs(css_urls, js_urls, function() {\n      console.debug(\"Bokeh: BokehJS plotting callback run at\", now());\n      run_inline_js();\n    });\n  }\n}(window));"
     },
     "metadata": {},
     "output_type": "display_data"
    }
   ],
   "source": [
    "exportService.completeExportProcess()\n",
    "\n",
    "from pandas_bokeh import output_notebook\n",
    "output_notebook()"
   ],
   "metadata": {
    "collapsed": false,
    "pycharm": {
     "name": "#%%\n"
    }
   }
  }
 ],
 "metadata": {
  "kernelspec": {
   "display_name": "Python 3",
   "language": "python",
   "name": "python3"
  },
  "language_info": {
   "codemirror_mode": {
    "name": "ipython",
    "version": 3
   },
   "file_extension": ".py",
   "mimetype": "text/x-python",
   "name": "python",
   "nbconvert_exporter": "python",
   "pygments_lexer": "ipython3",
   "version": "3.8.2"
  }
 },
 "nbformat": 4,
 "nbformat_minor": 1
}