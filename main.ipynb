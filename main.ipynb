{
 "cells": [
  {
   "cell_type": "markdown",
   "metadata": {
    "pycharm": {
     "name": "#%% md\n"
    }
   },
   "source": [
    "Init lib and create Repository to fetch the dataset"
   ]
  },
  {
   "cell_type": "code",
   "execution_count": null,
   "metadata": {
    "pycharm": {
     "name": "#%%\n"
    }
   },
   "outputs": [],
   "source": [
    "import pandas as pd\n",
    "from pandas_bokeh import output_notebook\n",
    "pd.set_option('plotting.backend', 'pandas_bokeh')\n",
    "output_notebook()\n",
    "\n",
    "from repository.dataset import LocalDatasetRepository\n",
    "datasetPath = './dataset.json'\n",
    "datasetRepository = LocalDatasetRepository(datasetPath)\n",
    "\n",
    "#from repository.dataset import RemoteDatasetRepository\n",
    "#datasetURI = 'https://amazon-braket-anoir.s3.amazonaws.com/dataset.json'\n",
    "#datasetRepository = RemoteDatasetRepository(datasetURI)"
   ]
  },
  {
   "cell_type": "markdown",
   "metadata": {
    "pycharm": {
     "name": "#%% md\n"
    }
   },
   "source": [
    "Create Read service and get dataset data"
   ]
  },
  {
   "cell_type": "code",
   "execution_count": null,
   "metadata": {
    "pycharm": {
     "name": "#%%\n"
    }
   },
   "outputs": [],
   "source": [
    "from service.read_dataset import ReadDataset\n",
    "\n",
    "readDatasetService = ReadDataset(datasetRepository)\n",
    "datasetInMemory = readDatasetService.getAllData()"
   ]
  },
  {
   "cell_type": "markdown",
   "metadata": {
    "collapsed": false
   },
   "source": [
    "Create Export UnitOfWork"
   ]
  },
  {
   "cell_type": "code",
   "execution_count": null,
   "metadata": {
    "pycharm": {
     "name": "#%%\n"
    }
   },
   "outputs": [],
   "source": [
    "from repository.export_result import LocalExportResultRepository, LocalSaveFactory, ExportResultUnitOfWork\n",
    "from model.export_result import ResultUnit, ResultType\n",
    "from service.export_file import ExportResultService\n",
    "import os\n",
    "\n",
    "file_dir = os.path.join(os.getcwd(), 'export')\n",
    "if not os.path.isdir(file_dir):\n",
    "    os.mkdir(file_dir)\n",
    "\n",
    "exportLocalSaveMethods = LocalSaveFactory()\n",
    "exportRepository = LocalExportResultRepository(file_dir, exportLocalSaveMethods)\n",
    "exportService = ExportResultService(ExportResultUnitOfWork(exportRepository))"
   ]
  },
  {
   "cell_type": "markdown",
   "metadata": {},
   "source": [
    "Init Data extractor service"
   ]
  },
  {
   "cell_type": "code",
   "execution_count": null,
   "metadata": {
    "pycharm": {
     "name": "#%%\n"
    }
   },
   "outputs": [],
   "source": [
    "from service.extract_dataset import ExtractDataFromDataset\n",
    "extractDataService = ExtractDataFromDataset(datasetInMemory)"
   ]
  },
  {
   "cell_type": "markdown",
   "metadata": {
    "pycharm": {
     "name": "#%% md\n"
    }
   },
   "source": [
    "Display crime distribution plot"
   ]
  },
  {
   "cell_type": "code",
   "execution_count": null,
   "metadata": {
    "pycharm": {
     "name": "#%%\n"
    }
   },
   "outputs": [],
   "source": [
    "crimeDatesDF = extractDataService.getAllCrimesCountByDateDataframe().reset_index(name='Crimes')\n",
    "crimeDatesFigure = crimeDatesDF.plot.line(\n",
    "    title=\"Time series of the crimes\",\n",
    "    figsize=(800, 450),\n",
    "    x=\"occur_date\",\n",
    "    color=\"mediumturquoise\",\n",
    "    xlabel=\"Date\",\n",
    "    ylabel=\"Crimes\",\n",
    "    toolbar_location=None,\n",
    "    zooming=False,\n",
    "    panning=False,\n",
    "    legend=None,\n",
    "    rangetool=True\n",
    ")\n",
    "exportService.addElementToExport(ResultUnit(crimeDatesFigure, \"crime_dates.html\", ResultType.BOKEH_PLOT))"
   ]
  },
  {
   "cell_type": "markdown",
   "metadata": {
    "collapsed": false
   },
   "source": [
    "Crimes frequency per type"
   ]
  },
  {
   "cell_type": "code",
   "execution_count": null,
   "metadata": {
    "pycharm": {
     "name": "#%%\n"
    }
   },
   "outputs": [],
   "source": [
    "crimeTypeDF = extractDataService.getAllCrimesCountByTypeDataframe().reset_index(name='Frequency')\n",
    "crimeTypeFigure = crimeTypeDF.plot_bokeh(\n",
    "    title=\"Crimes frequency per type\",\n",
    "    figsize=(800, 450),\n",
    "    kind=\"barh\",\n",
    "    color=\"darkslateblue\",\n",
    "    x=\"crime_type\",\n",
    "    xlabel=\"Frequency\",\n",
    "    ylabel=\"Crime Type\",\n",
    "    toolbar_location=None,\n",
    "    zooming=False,\n",
    "    panning=False,\n",
    "    legend=None\n",
    ")\n",
    "exportService.addElementToExport(ResultUnit(crimeTypeFigure, \"crime_type.html\", ResultType.BOKEH_PLOT))"
   ]
  },
  {
   "cell_type": "markdown",
   "metadata": {
    "collapsed": false
   },
   "source": [
    "Display crime distribution by day"
   ]
  },
  {
   "cell_type": "code",
   "execution_count": null,
   "metadata": {
    "pycharm": {
     "name": "#%%\n"
    }
   },
   "outputs": [],
   "source": [
    "crimeByDayDF = extractDataService.getAllCrimesCountByDayDataframe().reset_index(name='Frequency')\n",
    "crimeByDayFigure = crimeByDayDF.plot_bokeh(\n",
    "    title=\"Crimes frequency per day\",\n",
    "    figsize=(800, 450),\n",
    "    kind=\"bar\",\n",
    "    color=\"indianred\",\n",
    "    x=\"avg_day\",\n",
    "    ylabel=\"Frequency\",\n",
    "    xlabel=\"Day\",\n",
    "    toolbar_location=None,\n",
    "    zooming=False,\n",
    "    panning=False,\n",
    "    legend=None\n",
    ")\n",
    "exportService.addElementToExport(ResultUnit(crimeByDayFigure, \"crime_day.html\", ResultType.BOKEH_PLOT))"
   ]
  },
  {
   "cell_type": "markdown",
   "metadata": {
    "collapsed": false
   },
   "source": [
    "Display Type crime distribution by day"
   ]
  },
  {
   "cell_type": "code",
   "execution_count": null,
   "metadata": {
    "pycharm": {
     "name": "#%%\n"
    }
   },
   "outputs": [],
   "source": [
    "dayAndFelonyDF = extractDataService.getAllCrimesCountGroupByDayAndFelony()#x = df.sort_values('avg_day').value_counts(subset=['avg_day', 'crime_type'])\n",
    "dayAndFelonyFigure = dayAndFelonyDF.plot_bokeh(\n",
    "    title=\"Crimes frequency per day\",\n",
    "    figsize=(800, 450),\n",
    "    kind=\"bar\",\n",
    "    ylabel=\"Frequency\",\n",
    "    xlabel=\"Day\",\n",
    "    toolbar_location=None,\n",
    "    zooming=True,\n",
    "    panning=False,\n",
    "    stacked=True,\n",
    "    legend=None\n",
    ")\n",
    "exportService.addElementToExport(ResultUnit(dayAndFelonyFigure, \"day_and_felony.html\", ResultType.BOKEH_PLOT))"
   ]
  },
  {
   "cell_type": "markdown",
   "metadata": {
    "collapsed": false
   },
   "source": [
    "Top 50 Neighborhood with most crimes frequencies"
   ]
  },
  {
   "cell_type": "code",
   "execution_count": null,
   "metadata": {
    "pycharm": {
     "name": "#%%\n"
    }
   },
   "outputs": [],
   "source": [
    "neighborhoodMostCriminalDF = extractDataService.getAllTop50NeighborhoodWithMostCrimesCountDataframe()\n",
    "neighborhoodMostCriminalFigure = neighborhoodMostCriminalDF.plot_bokeh(\n",
    "    title=\"Top 50 Neighborhood with most crimes frequencies\",\n",
    "    figsize=(800, 450),\n",
    "    kind=\"barh\",\n",
    "    color=\"indianred\",\n",
    "    x=\"neighborhood\",\n",
    "    ylabel=\"Neighborhood\",\n",
    "    xlabel=\"Frequency\",\n",
    "    toolbar_location=None,\n",
    "    zooming=False,\n",
    "    panning=False,\n",
    "    legend=None\n",
    ")\n",
    "exportService.addElementToExport(ResultUnit(neighborhoodMostCriminalFigure, \"neighborhood_most_criminal.html\", ResultType.BOKEH_PLOT))"
   ]
  },
  {
   "cell_type": "markdown",
   "metadata": {
    "collapsed": false
   },
   "source": [
    "Top 50 Neighborhood with less crimes frequencies"
   ]
  },
  {
   "cell_type": "code",
   "execution_count": null,
   "metadata": {
    "pycharm": {
     "name": "#%%\n"
    }
   },
   "outputs": [],
   "source": [
    "neighborhoodLessCriminalDF = extractDataService.getAllTop50NeighborhoodWithLessCrimesCountDataframe()\n",
    "neighborhoodLessCriminalFigure = neighborhoodLessCriminalDF.plot_bokeh(\n",
    "    title=\"Top 50 Neighborhood with less crimes frequencies\",\n",
    "    figsize=(800, 450),\n",
    "    kind=\"barh\",\n",
    "    color=\"indianred\",\n",
    "    x=\"neighborhood\",\n",
    "    ylabel=\"Neighborhood\",\n",
    "    xlabel=\"Frequency\",\n",
    "    toolbar_location=None,\n",
    "    zooming=False,\n",
    "    panning=False,\n",
    "    legend=None\n",
    ")\n",
    "\n",
    "exportService.addElementToExport(ResultUnit(neighborhoodLessCriminalFigure, \"neighborhood_less_criminal.html\", ResultType.BOKEH_PLOT))"
   ]
  },
  {
   "cell_type": "markdown",
   "metadata": {},
   "source": [
    "Init GIS Services and all repository"
   ]
  },
  {
   "cell_type": "code",
   "execution_count": null,
   "metadata": {},
   "outputs": [],
   "source": [
    "from arcgis.gis import GIS\n",
    "from service.arc_gis import ArcGISService, ArcGISPointStyle\n",
    "\n",
    "gisRepository = GIS()\n",
    "gisService = ArcGISService(gisRepository, use_cache=True)"
   ]
  },
  {
   "cell_type": "markdown",
   "metadata": {},
   "source": [
    "Retrieve data by Homicide and display in map"
   ]
  },
  {
   "cell_type": "code",
   "execution_count": null,
   "metadata": {
    "pycharm": {
     "name": "#%%\n"
    }
   },
   "outputs": [],
   "source": [
    "homicideDF = extractDataService.getAllCrimeByFelony(\"HOMICIDE\")\n",
    "homicideMap = gisService.getCrimesMapByFelonyType(homicideDF, ArcGISPointStyle.RED_POINT)\n",
    "exportService.addElementToExport(ResultUnit(homicideMap, \"homicide_map.html\", ResultType.ARC_GIS_MAP))\n",
    "homicideMap"
   ]
  },
  {
   "cell_type": "markdown",
   "metadata": {
    "collapsed": false
   },
   "source": [
    "Retrieve data by Homicide and display in map"
   ]
  },
  {
   "cell_type": "code",
   "execution_count": null,
   "metadata": {
    "pycharm": {
     "name": "#%%\n"
    }
   },
   "outputs": [],
   "source": [
    "assaultDF = extractDataService.getAllCrimeByFelony(\"AGG ASSAULT\")\n",
    "assaultMap = gisService.getCrimesMapByFelonyType(assaultDF, ArcGISPointStyle.PURPLE_POINT)\n",
    "exportService.addElementToExport(ResultUnit(assaultMap, \"assault_map.html\", ResultType.ARC_GIS_MAP))\n",
    "assaultMap"
   ]
  },
  {
   "cell_type": "markdown",
   "metadata": {
    "collapsed": false
   },
   "source": [
    "Retrieve data by Homicide and display in map"
   ]
  },
  {
   "cell_type": "code",
   "execution_count": null,
   "metadata": {
    "pycharm": {
     "name": "#%%\n"
    }
   },
   "outputs": [],
   "source": [
    "robberyResidenceDF = extractDataService.getAllCrimeByFelony(\"ROBBERY-RESIDENCE\")\n",
    "robberyResidenceMap = gisService.getCrimesMapByFelonyType(robberyResidenceDF, ArcGISPointStyle.GREEN_POINT)\n",
    "exportService.addElementToExport(ResultUnit(assaultMap, \"robbery_residence_map.html\", ResultType.ARC_GIS_MAP))\n",
    "robberyResidenceMap"
   ]
  },
  {
   "cell_type": "markdown",
   "metadata": {
    "collapsed": false
   },
   "source": [
    "Save all the Maps and plots and reset bokeh output"
   ]
  },
  {
   "cell_type": "code",
   "execution_count": null,
   "metadata": {
    "pycharm": {
     "name": "#%%\n"
    }
   },
   "outputs": [],
   "source": [
    "exportService.completeExportProcess()\n",
    "\n",
    "from pandas_bokeh import output_notebook\n",
    "output_notebook()"
   ]
  }
 ],
 "metadata": {
  "kernelspec": {
   "display_name": "Python 3",
   "language": "python",
   "name": "python3"
  },
  "language_info": {
   "codemirror_mode": {
    "name": "ipython",
    "version": 3
   },
   "file_extension": ".py",
   "mimetype": "text/x-python",
   "name": "python",
   "nbconvert_exporter": "python",
   "pygments_lexer": "ipython3",
   "version": "3.8.2"
  }
 },
 "nbformat": 4,
 "nbformat_minor": 1
}